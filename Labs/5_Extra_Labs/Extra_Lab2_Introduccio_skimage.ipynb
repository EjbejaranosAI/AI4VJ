{
  "cells": [
    {
      "cell_type": "markdown",
      "metadata": {
        "id": "814hO6egKcTY"
      },
      "source": [
        "# Scikit-Image: Introduction to Image Processing with Python  \n",
        "* **Course**: ARTIFICIAL INTELLIGENCE\n",
        "* **Professors**: Edison Jair Bejarano Sepulveda & Ramon Mateo Navarro &\n",
        "\n",
        "There are various image processing libraries in the Python ecosystem. Some of the most popular ones include OpenCV (Open Source Computer Vision), Scikit-Image, and PIL (Python Imaging Library).\n",
        "\n",
        "---\n",
        "\n",
        "**Scikit-Image** (known as `skimage`) is a community-driven image library built on `scipy.ndimage` and provides different functions for various image processing tasks in Python.\n",
        "\n"
      ]
    },
    {
      "cell_type": "markdown",
      "metadata": {
        "id": "b4JX-NAeZK1f"
      },
      "source": [
        "# Importing skimage\n",
        "\n",
        "skimage is available by default in Colab notebooks. Therefore the library can be invoked directly using the *import* statement\n",
        "\n",
        "If you don't have installed you can install using pip: `pip install -U scikit-image`"
      ]
    },
    {
      "cell_type": "code",
      "execution_count": 1,
      "metadata": {
        "colab": {
          "base_uri": "https://localhost:8080/"
        },
        "id": "fynpPfKkZH76",
        "outputId": "0057c21d-6270-4c79-8a35-357a39481338"
      },
      "outputs": [
        {
          "output_type": "stream",
          "name": "stdout",
          "text": [
            "0.24.0\n"
          ]
        }
      ],
      "source": [
        "import skimage\n",
        "import numpy as np\n",
        "print(skimage.__version__)"
      ]
    },
    {
      "cell_type": "markdown",
      "metadata": {
        "id": "CxrJ1A8waZ9r"
      },
      "source": [
        "# Common Submodules\n",
        "\n",
        "Most routines (functions) are grouped under different submodules of `skimage`.\n",
        "\n",
        "The standard test images are part of the **data** submodule. These images can be accessed directly through function calls.\n"
      ]
    },
    {
      "cell_type": "code",
      "execution_count": 2,
      "metadata": {
        "id": "dDsAOQZVbzu6"
      },
      "outputs": [],
      "source": [
        "from skimage import data\n",
        "camera_image = data.camera()"
      ]
    },
    {
      "cell_type": "markdown",
      "metadata": {
        "id": "G6qWYWVAOgz3"
      },
      "source": [
        "# What is an Image?\n",
        "\n",
        "An image is nothing more than an **n-dimensional array** of numbers. Each element of the array corresponds to a **pixel**. The row (r) and column (c) correspond to the **size of the image**, and each r x c plane corresponds to an **image channel**.\n",
        "\n",
        "Most images are used as:\n",
        "\n",
        "* **Grayscale images:** A 2D image (r x c) where each pixel corresponds to intensity.\n",
        "* **Color images (RGB Images):** 2D multi-channel images where the channels correspond to the red, green, and blue channels.\n"
      ]
    },
    {
      "cell_type": "markdown",
      "metadata": {
        "id": "W6VCgeYNccmK"
      },
      "source": [
        "# Image Properties\n",
        "\n",
        "As mentioned earlier, images are stored as numpy arrays in `skimage`. All possible numpy operations can be applied to image data.\n",
        "\n",
        "**Exercise #01:**\n",
        "\n",
        "* Print the type of the previously loaded sample image\n",
        "* Print the shape and size of the image\n",
        "* Print the number of channels in the loaded image\n",
        "\n"
      ]
    },
    {
      "cell_type": "code",
      "execution_count": null,
      "metadata": {
        "id": "0JvZH_78ce-N"
      },
      "outputs": [],
      "source": [
        "# solution"
      ]
    },
    {
      "cell_type": "markdown",
      "metadata": {
        "id": "SiB5WCO3Q7Rc"
      },
      "source": [
        "# Image Visualization\n",
        "\n",
        "The visualization of manipulated images is an important part of any image processing tool. `skimage` provides essential visualization through various tools available in the Python ecosystem.\n",
        "\n",
        "For all experiments in this course, we will use the functions provided by the **Matplotlib** library.\n",
        "\n",
        "Read the **[usage](https://matplotlib.org/stable/tutorials/introductory/usage.html)** to get an introduction to the various functions in Matplotlib.\n",
        "\n",
        "Familiarize yourself with plots, subplots, setting titles, legends, labels, etc. Also, explore common charts that can be used to understand different problems.\n"
      ]
    },
    {
      "cell_type": "code",
      "execution_count": null,
      "metadata": {
        "id": "gf51DQjge073"
      },
      "outputs": [],
      "source": [
        "import matplotlib.pyplot as plt"
      ]
    },
    {
      "cell_type": "markdown",
      "metadata": {
        "id": "S1gCP_hffQsC"
      },
      "source": [
        "Images are visualized using the **imshow** function available in the `pyplot` submodule.\n",
        "\n",
        "**Exercise #02:**\n",
        "\n",
        "* Display the camera image using **imshow**\n",
        "* Change the axis title of the plot to \"camera\"\n",
        "\n",
        "\n"
      ]
    },
    {
      "cell_type": "code",
      "execution_count": null,
      "metadata": {
        "id": "6zZvf0vpe7v-"
      },
      "outputs": [],
      "source": [
        "# solution"
      ]
    },
    {
      "cell_type": "markdown",
      "metadata": {
        "id": "8RZXYRy_skPj"
      },
      "source": [
        "**Exercise #03:**\n",
        "\n",
        "* Understand the parameters of `imshow` from `pyplot`\n",
        "* Display the loaded image as a grayscale image\n",
        "\n",
        "\n"
      ]
    },
    {
      "cell_type": "code",
      "execution_count": null,
      "metadata": {
        "id": "PU2qElCas0zS"
      },
      "outputs": [],
      "source": [
        "# solution"
      ]
    },
    {
      "cell_type": "markdown",
      "metadata": {
        "id": "xmzF9Hnxh5DV"
      },
      "source": [
        "# Reading and Displaying Images\n",
        "\n",
        "It is also possible to load images from external sources and save manipulated images in different formats. All supported functions are available in the **io** submodule.\n"
      ]
    },
    {
      "cell_type": "code",
      "execution_count": null,
      "metadata": {
        "id": "EQMIHmf0q_Lg"
      },
      "outputs": [],
      "source": [
        "from skimage import io\n",
        "test_image = io.imread('your own path to a downloaded image') #\n",
        "plt.imshow(test_image)"
      ]
    },
    {
      "cell_type": "markdown",
      "metadata": {
        "id": "XWuTauqPv8_B"
      },
      "source": [
        "Similarly, images can be saved in different formats using the `imsave` function.\n",
        "\n",
        "**Exercise #04: Create a Custom Image Step by Step**\n",
        "\n",
        "Follow the steps below to create a custom image using NumPy arrays and the Matplotlib library.\n",
        "\n",
        "1. **Step 1:** Create a black image  \n",
        "   Use NumPy to create a 256x256x3 array filled with zeros to represent a completely black image.\n",
        "\n",
        "2. **Step 2:** Create a white image  \n",
        "   Use `np.full` to create another 256x256x3 array, but this time filled with the value 128 to represent a mid-tone gray image (in this case, used as \"white\").\n",
        "\n",
        "3. **Step 3:** Modify the corners  \n",
        "   Change the top-left corner (64x64 pixels) to be completely black and the bottom-right corner (64x64 pixels) to be completely white.\n",
        "\n",
        "4. **Step 4:** Add custom colors to other corners  \n",
        "   Modify the top-right corner to be a mix of red and purple (`[256, 0, 128]`) and the bottom-left corner to be green (`[0, 256, 0]`).\n",
        "\n",
        "5. **Step 5:** Draw a blue cross in the middle  \n",
        "   Insert a vertical blue line along the middle of the image (columns 126 to 132) and a horizontal blue line (rows 126 to 132).\n",
        "\n",
        "6. **Step 6:** Visualize the image  \n",
        "   Use `plt.imshow` to display the final image.\n",
        "\n",
        "Your code should result in a visual representation that resembles a white background with custom-colored corners and a blue cross in the center.\n",
        "\n",
        "7. **Step 7:** Save the image  \n",
        "\n",
        "   Use `plt.imsave` to save the image on your directory\n",
        "\n",
        "**Hint:** Use indexing to modify specific regions of the image array.\n",
        "\n"
      ]
    },
    {
      "cell_type": "code",
      "execution_count": null,
      "metadata": {
        "id": "KN815Ck8uJQZ"
      },
      "outputs": [],
      "source": [
        "# solution\n"
      ]
    },
    {
      "cell_type": "markdown",
      "metadata": {
        "id": "OvJ0ZyAkQ4ph"
      },
      "source": [
        "# Image Coordinates\n",
        "\n",
        "Grayscale images are indexed as **r** x **c** where (0,0) corresponds to the top-left corner of the image. Note that this is different from normal Cartesian coordinates (x,y).\n",
        "\n",
        "Read the documentation on **[numpy images](https://scikit-image.org/docs/dev/user_guide/numpy_images.html)** for complete information on standard image manipulations.\n"
      ]
    },
    {
      "cell_type": "markdown",
      "metadata": {
        "id": "-i9gjDjR0DnF"
      },
      "source": [
        "# Image Transformation\n",
        "\n",
        "There are various image manipulation utilities, such as type conversions, available in the **utils** submodule. Another common submodule is the **transform** submodule. The functions available in the transform submodule are used to change the spatial and photometric resolution of an image in various scenarios.\n",
        "\n",
        "Commonly used transformations include resizing and rotating images.\n",
        "\n"
      ]
    },
    {
      "cell_type": "code",
      "execution_count": null,
      "metadata": {
        "id": "gGHrboWQ1uKW"
      },
      "outputs": [],
      "source": [
        "# Resize the camera image to 256 x 256\n",
        "from skimage.transform import resize\n",
        "camera_image_resize = resize(camera_image, (256, 256))\n",
        "plt.imshow(camera_image_resize, cmap='gray')\n",
        "plt.show()\n",
        "print(camera_image_resize.shape, camera_image_resize.min(), camera_image_resize.max())"
      ]
    },
    {
      "cell_type": "code",
      "execution_count": null,
      "metadata": {
        "id": "0hlpsIbc2D9m"
      },
      "outputs": [],
      "source": [
        "# Rescale the camera image by a factor of 0.5\n",
        "from skimage.transform import rescale\n",
        "camera_image_rescale = rescale(camera_image, 0.5)\n",
        "plt.imshow(camera_image_rescale, cmap='gray')\n",
        "plt.show()\n",
        "print(camera_image_rescale.shape, camera_image_rescale.min(), camera_image_rescale.max())"
      ]
    },
    {
      "cell_type": "markdown",
      "metadata": {
        "id": "zrcfmpxG-3la"
      },
      "source": [
        "**Exercise #05:**\n",
        "\n",
        "* What is the difference between the **resize** and **rescale** functions?\n",
        "\n"
      ]
    },
    {
      "cell_type": "markdown",
      "metadata": {
        "id": "eC_Gz9nCZJh4"
      },
      "source": [
        "**Solution**\n",
        "\n",
        "\n",
        "Write here your solution"
      ]
    },
    {
      "cell_type": "markdown",
      "metadata": {
        "id": "xEsUYaRdZULx"
      },
      "source": [
        "**Exercise #06:**\n",
        "\n",
        "* Resize the image by a factor of 0.5 with the `preserve_range` parameter enabled and observe the difference.\n"
      ]
    },
    {
      "cell_type": "code",
      "execution_count": null,
      "metadata": {
        "id": "q3l3Z_Dl7sRy"
      },
      "outputs": [],
      "source": [
        "# solution\n"
      ]
    },
    {
      "cell_type": "markdown",
      "metadata": {
        "id": "7hQ8M6od_bfW"
      },
      "source": [
        "# Manipulating Pixel Intensity Values\n",
        "\n",
        "What happens when we change the pixel values of the image?\n",
        "\n",
        "Run the following outputs and observe the difference.\n"
      ]
    },
    {
      "cell_type": "code",
      "execution_count": null,
      "metadata": {
        "id": "Sv0cqlT7BNm6"
      },
      "outputs": [],
      "source": [
        "plt.imshow(camera_image, cmap='gray')\n",
        "plt.show()\n",
        "print(camera_image.shape, camera_image.min(), camera_image.max())"
      ]
    },
    {
      "cell_type": "code",
      "execution_count": null,
      "metadata": {
        "id": "oYiUc2mD_-OL"
      },
      "outputs": [],
      "source": [
        "camera_image_2 = camera_image/2  # reducing the intensity by 2\n",
        "plt.imshow(camera_image_2, cmap='gray')\n",
        "plt.show()\n",
        "print(camera_image_2.shape, camera_image_2.min(), camera_image_2.max())"
      ]
    },
    {
      "cell_type": "code",
      "execution_count": null,
      "metadata": {
        "id": "4aHYtoFYALJq"
      },
      "outputs": [],
      "source": [
        "camera_image_3 = camera_image/4  # reducing the intensity by 4\n",
        "plt.imshow(camera_image_3, cmap='gray')\n",
        "plt.show()\n",
        "print(camera_image_3.shape, camera_image_3.min(), camera_image_3.max())"
      ]
    },
    {
      "cell_type": "code",
      "execution_count": null,
      "metadata": {
        "id": "1U7_jn1eARyX"
      },
      "outputs": [],
      "source": [
        "camera_image_4 = camera_image + 25  # shifting intensity by +25\n",
        "plt.imshow(camera_image_4, cmap='gray')\n",
        "plt.show()\n",
        "print(camera_image_4.shape, camera_image_4.min(), camera_image_4.max())"
      ]
    },
    {
      "cell_type": "code",
      "execution_count": null,
      "metadata": {
        "id": "LUmeo8MkAiSI"
      },
      "outputs": [],
      "source": [
        "camera_image_5 = camera_image - 25  # shifting intensity by -25\n",
        "plt.imshow(camera_image_5, cmap='gray')\n",
        "plt.show()\n",
        "print(camera_image_5.shape, camera_image_5.min(), camera_image_5.max())"
      ]
    },
    {
      "cell_type": "markdown",
      "metadata": {
        "id": "N7WLQvF1Bhgs"
      },
      "source": [
        "**Exercise #07:**\n",
        "\n",
        "* What differences do you observe with the four previous operations? How does changing intensity affect the image?\n",
        "\n"
      ]
    },
    {
      "cell_type": "markdown",
      "metadata": {
        "id": "DKWmFNVxBx-_"
      },
      "source": [
        "**Solution**\n",
        "\n",
        "Your solution here"
      ]
    },
    {
      "cell_type": "markdown",
      "metadata": {
        "id": "PYm8TWIFCMJN"
      },
      "source": [
        "**Exercise #08:**\n",
        "\n",
        "* Resize the `camera_man` image to (64, 64)\n",
        "* Display the resized image with Matplotlib (at the same scale as the original image)\n",
        "* Display the resized image with Matplotlib (view the image as 256 x 256)\n",
        "* What do you observe between the two plots?\n",
        "\n"
      ]
    },
    {
      "cell_type": "code",
      "execution_count": null,
      "metadata": {
        "id": "duH8-2qbCrxw"
      },
      "outputs": [],
      "source": [
        "# solution\n"
      ]
    },
    {
      "cell_type": "markdown",
      "metadata": {
        "id": "25SQqRkeGDj5"
      },
      "source": [
        "# Color Space Conversions\n",
        "\n",
        "One of the common tasks in any image processing problem is converting images from one color space to another; the most common being converting color images to grayscale or removing the alpha channel from the image.\n",
        "\n",
        "*All color space functions are available in the `skimage.color` package.*\n"
      ]
    },
    {
      "cell_type": "code",
      "execution_count": null,
      "metadata": {
        "id": "vaTmr1k8Dbjk"
      },
      "outputs": [],
      "source": [
        "# converting a rgb image to gray scale\n",
        "\n",
        "from skimage.color import rgb2gray\n",
        "\n",
        "img = data.astronaut()\n",
        "plt.imshow(img)\n",
        "plt.show()\n",
        "\n",
        "img_gray = rgb2gray(img)\n",
        "plt.imshow(img_gray, cmap='gray')\n",
        "plt.show()\n",
        "img_gray.shape"
      ]
    },
    {
      "cell_type": "code",
      "execution_count": null,
      "metadata": {
        "id": "unAiyz53Di9f"
      },
      "outputs": [],
      "source": [
        "# converting rgba to rgb\n",
        "\n",
        "from skimage.color import rgba2rgb\n",
        "# RGBA has 24 bits for RGB color, bit there is an additional 8 bit value for transparency.\n",
        "\n",
        "img_rgba = data.logo()\n",
        "print(img_rgba.shape)\n",
        "plt.imshow(img_rgba)\n",
        "plt.show()\n",
        "\n",
        "img_rgb = rgba2rgb(img_rgba)\n",
        "print(img_rgb.shape)\n",
        "plt.imshow(img_rgb)\n",
        "plt.show()"
      ]
    },
    {
      "cell_type": "code",
      "execution_count": null,
      "metadata": {
        "id": "PVd81mYzD3R0"
      },
      "outputs": [],
      "source": [
        "# converting rgb to hsv\n",
        "\n",
        "from skimage.color import rgb2hsv\n",
        "\n",
        "# create an array with bright saturated red\n",
        "red_pixel_rgb = np.array([[[255, 0, 0]]], dtype=np.uint8)\n",
        "plt.imshow(red_pixel_rgb)\n",
        "plt.show()\n",
        "\n",
        "hsv = rgb2hsv(red_pixel_rgb)\n",
        "plt.imshow(hsv)\n",
        "plt.show()"
      ]
    },
    {
      "cell_type": "markdown",
      "metadata": {
        "id": "SPog_gmIGYt4"
      },
      "source": [
        "# Conclusion\n",
        "\n",
        "We hope that through these exercises, you have gained a foundational understanding of image manipulation and processing using Python. From loading and visualizing images to transforming and manipulating pixel values, this notebook introduced you to key tools and techniques for working with images.\n",
        "\n",
        "This knowledge forms one of the core foundations for implementing AI models that use images in video games. Understanding how to manipulate and process images is essential for tasks like object recognition, image classification, and generating game environments using AI. As you progress, you'll find that these techniques are critical for building more complex AI-driven systems that enhance player experiences in the world of video games.\n",
        "\n",
        "This is just the beginning—there are many more advanced methods waiting to be explored as you delve deeper into AI and image processing for games.\n"
      ]
    }
  ],
  "metadata": {
    "colab": {
      "provenance": []
    },
    "kernelspec": {
      "display_name": "Python 3",
      "name": "python3"
    },
    "language_info": {
      "codemirror_mode": {
        "name": "ipython",
        "version": 3
      },
      "file_extension": ".py",
      "mimetype": "text/x-python",
      "name": "python",
      "nbconvert_exporter": "python",
      "pygments_lexer": "ipython3",
      "version": "3.11.8"
    }
  },
  "nbformat": 4,
  "nbformat_minor": 0
}