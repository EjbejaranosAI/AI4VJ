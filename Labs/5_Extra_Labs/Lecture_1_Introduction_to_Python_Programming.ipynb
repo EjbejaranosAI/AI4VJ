{
  "cells": [
    {
      "cell_type": "markdown",
      "metadata": {
        "id": "yfjNIOq56vIR"
      },
      "source": [
        "# Introduction to Python programming"
      ]
    },
    {
      "cell_type": "markdown",
      "metadata": {
        "id": "CZzZN6GW6vIU"
      },
      "source": [
        "## Python program files"
      ]
    },
    {
      "cell_type": "markdown",
      "metadata": {
        "id": "m1lDLie06vIU"
      },
      "source": [
        "* Python code is usually stored in text files with the file ending \"`.py`\":\n",
        "\n",
        "        myprogram.py\n",
        "\n",
        "* Every line in a Python program file is assumed to be a Python statement, or part thereof.\n",
        "\n",
        "    * The only exception is comment lines, which start with the character `#` (optionally preceded by an arbitrary number of white-space characters, i.e., tabs or spaces). Comment lines are usually ignored by the Python interpreter.\n",
        "\n",
        "\n",
        "* To run our Python program from the command line we use:\n",
        "\n",
        "        $ python myprogram.py\n",
        "\n",
        "* On UNIX systems it is common to define the path to the interpreter on the first line of the program (note that this is a comment line as far as the Python interpreter is concerned):\n",
        "\n",
        "        #!/usr/bin/env python\n",
        "\n",
        "  If we do, and if we additionally set the file script to be executable, we can run the program like this:\n",
        "\n",
        "        $ myprogram.py"
      ]
    },
    {
      "cell_type": "markdown",
      "metadata": {
        "id": "Ynz1tjfL6vIU"
      },
      "source": [
        "### Example:"
      ]
    },
    {
      "cell_type": "code",
      "execution_count": 1,
      "metadata": {
        "id": "_2KYsqdD6vIV",
        "outputId": "5ec07198-cc84-4292-def0-5cd2d66fb53a",
        "colab": {
          "base_uri": "https://localhost:8080/"
        }
      },
      "outputs": [
        {
          "output_type": "stream",
          "name": "stdout",
          "text": [
            "ls: cannot access 'scripts/hello-world*.py': No such file or directory\n"
          ]
        }
      ],
      "source": [
        "ls scripts/hello-world*.py"
      ]
    },
    {
      "cell_type": "code",
      "execution_count": null,
      "metadata": {
        "id": "BBxVxXD-6vIW",
        "outputId": "21f10792-2e28-4a71-8aa5-374627a5ef46"
      },
      "outputs": [
        {
          "name": "stdout",
          "output_type": "stream",
          "text": [
            "#!/usr/bin/env python\r\n",
            "\r\n",
            "print(\"Hello world!\")\r\n"
          ]
        }
      ],
      "source": [
        "cat scripts/hello-world.py"
      ]
    },
    {
      "cell_type": "code",
      "execution_count": null,
      "metadata": {
        "id": "oWHPSZVL6vIW",
        "outputId": "5b148572-ba2d-495c-84e6-0a31ce2acf70"
      },
      "outputs": [
        {
          "name": "stdout",
          "output_type": "stream",
          "text": [
            "Hello world!\r\n"
          ]
        }
      ],
      "source": [
        "!python scripts/hello-world.py"
      ]
    },
    {
      "cell_type": "markdown",
      "metadata": {
        "id": "_Kqao9kH6vIX"
      },
      "source": [
        "### Character encoding"
      ]
    },
    {
      "cell_type": "markdown",
      "metadata": {
        "id": "du95eyRD6vIX"
      },
      "source": [
        "The standard character encoding is ASCII, but we can use any other encoding, for example UTF-8. To specify that UTF-8 is used we include the special line\n",
        "\n",
        "    # -*- coding: UTF-8 -*-\n",
        "\n",
        "at the top of the file."
      ]
    },
    {
      "cell_type": "code",
      "execution_count": null,
      "metadata": {
        "id": "yp-B7S8v6vIX",
        "outputId": "45285c16-1077-4f4a-f150-6cff0e7ffbdb"
      },
      "outputs": [
        {
          "name": "stdout",
          "output_type": "stream",
          "text": [
            "#!/usr/bin/env python\r\n",
            "# -*- coding: UTF-8 -*-\r\n",
            "\r\n",
            "print(\"Hej världen!\")\r\n"
          ]
        }
      ],
      "source": [
        "cat scripts/hello-world-in-swedish.py"
      ]
    },
    {
      "cell_type": "code",
      "execution_count": null,
      "metadata": {
        "id": "mikA0dT96vIX",
        "outputId": "d4c53f6b-0b98-48b9-dd9c-68eec1d00650"
      },
      "outputs": [
        {
          "name": "stdout",
          "output_type": "stream",
          "text": [
            "Hej världen!\r\n"
          ]
        }
      ],
      "source": [
        "!python scripts/hello-world-in-swedish.py"
      ]
    },
    {
      "cell_type": "markdown",
      "metadata": {
        "id": "71CbepDu6vIX"
      },
      "source": [
        "Other than these two *optional* lines in the beginning of a Python code file, no additional code is required for initializing a program."
      ]
    },
    {
      "cell_type": "markdown",
      "metadata": {
        "id": "NJuerfzk6vIX"
      },
      "source": [
        "## IPython notebooks"
      ]
    },
    {
      "cell_type": "markdown",
      "metadata": {
        "id": "ZGnzXUVU6vIX"
      },
      "source": [
        "This file - an IPython notebook -  does not follow the standard pattern with Python code in a text file. Instead, an IPython notebook is stored as a file in the [JSON](http://en.wikipedia.org/wiki/JSON) format. The advantage is that we can mix formatted text, Python code and code output. It requires the IPython notebook server to run it though, and therefore isn't a stand-alone Python program as described above. Other than that, there is no difference between the Python code that goes into a program file or an IPython notebook."
      ]
    },
    {
      "cell_type": "markdown",
      "metadata": {
        "id": "ja_M8_OR6vIY"
      },
      "source": [
        "## Modules"
      ]
    },
    {
      "cell_type": "markdown",
      "metadata": {
        "id": "w_OCmvSV6vIY"
      },
      "source": [
        "Most of the functionality in Python is provided by *modules*. The Python Standard Library is a large collection of modules that provides *cross-platform* implementations of common facilities such as access to the operating system, file I/O, string management, network communication, and much more."
      ]
    },
    {
      "cell_type": "markdown",
      "metadata": {
        "id": "R1RKiYr56vIY"
      },
      "source": [
        "### References"
      ]
    },
    {
      "cell_type": "markdown",
      "metadata": {
        "id": "QXUDyfS46vIY"
      },
      "source": [
        " * The Python Language Reference: http://docs.python.org/2/reference/index.html\n",
        " * The Python Standard Library: http://docs.python.org/2/library/\n",
        "\n",
        "To use a module in a Python program it first has to be imported. A module can be imported using the `import` statement. For example, to import the module `math`, which contains many standard mathematical functions, we can do:"
      ]
    },
    {
      "cell_type": "code",
      "execution_count": null,
      "metadata": {
        "id": "YSnuFXGN6vIY"
      },
      "outputs": [],
      "source": [
        "import math"
      ]
    },
    {
      "cell_type": "markdown",
      "metadata": {
        "id": "XwDWdv6o6vIY"
      },
      "source": [
        "This includes the whole module and makes it available for use later in the program. For example, we can do:"
      ]
    },
    {
      "cell_type": "code",
      "execution_count": null,
      "metadata": {
        "id": "y1S_7kdZ6vIY",
        "outputId": "b8d9cc30-ebf7-4131-f55f-e8c1faeb63ed"
      },
      "outputs": [
        {
          "name": "stdout",
          "output_type": "stream",
          "text": [
            "1.0\n"
          ]
        }
      ],
      "source": [
        "import math\n",
        "\n",
        "x = math.cos(2 * math.pi)\n",
        "\n",
        "print(x)"
      ]
    },
    {
      "cell_type": "markdown",
      "metadata": {
        "id": "CHNpxM5r6vIY"
      },
      "source": [
        "Alternatively, we can choose to import all symbols (functions and variables) in a module to the current namespace so that we don't need to use the prefix \"`math.`\" every time we use something from the `math` module:"
      ]
    },
    {
      "cell_type": "code",
      "execution_count": null,
      "metadata": {
        "id": "U9k0TMLE6vIY",
        "outputId": "ab1051af-c834-4cf8-d02d-728e9f0c10ca"
      },
      "outputs": [
        {
          "name": "stdout",
          "output_type": "stream",
          "text": [
            "1.0\n"
          ]
        }
      ],
      "source": [
        "from math import *\n",
        "\n",
        "x = cos(2 * pi)\n",
        "\n",
        "print(x)"
      ]
    },
    {
      "cell_type": "markdown",
      "metadata": {
        "id": "UTHlLtoB6vIY"
      },
      "source": [
        "This pattern can be very convenient, but in large programs that include many modules it is often a good idea to keep the symbols from each module in their own namespaces, by using the `import math` pattern. This would eliminate potentially confusing problems with name space collisions.\n",
        "\n",
        "As a third alternative, we can choose to import only a few selected symbols from a module by explicitly listing which ones we want to import instead of using the wildcard character `*`:"
      ]
    },
    {
      "cell_type": "code",
      "execution_count": null,
      "metadata": {
        "id": "uPuDy_d56vIY",
        "outputId": "e8861fae-1748-4e73-f807-978c672a036c"
      },
      "outputs": [
        {
          "name": "stdout",
          "output_type": "stream",
          "text": [
            "1.0\n"
          ]
        }
      ],
      "source": [
        "from math import cos, pi\n",
        "\n",
        "x = cos(2 * pi)\n",
        "\n",
        "print(x)"
      ]
    },
    {
      "cell_type": "markdown",
      "metadata": {
        "id": "X-Rmij5Y6vIY"
      },
      "source": [
        "### Looking at what a module contains, and its documentation"
      ]
    },
    {
      "cell_type": "markdown",
      "metadata": {
        "id": "8uXklTnO6vIY"
      },
      "source": [
        "Once a module is imported, we can list the symbols it provides using the `dir` function:"
      ]
    },
    {
      "cell_type": "code",
      "execution_count": null,
      "metadata": {
        "id": "zsTJa_RF6vIY",
        "outputId": "1856cf89-b63a-4d35-a1ad-3c7b2fb6af52"
      },
      "outputs": [
        {
          "name": "stdout",
          "output_type": "stream",
          "text": [
            "['__doc__', '__file__', '__name__', '__package__', 'acos', 'acosh', 'asin', 'asinh', 'atan', 'atan2', 'atanh', 'ceil', 'copysign', 'cos', 'cosh', 'degrees', 'e', 'erf', 'erfc', 'exp', 'expm1', 'fabs', 'factorial', 'floor', 'fmod', 'frexp', 'fsum', 'gamma', 'hypot', 'isinf', 'isnan', 'ldexp', 'lgamma', 'log', 'log10', 'log1p', 'modf', 'pi', 'pow', 'radians', 'sin', 'sinh', 'sqrt', 'tan', 'tanh', 'trunc']\n"
          ]
        }
      ],
      "source": [
        "import math\n",
        "\n",
        "print(dir(math))"
      ]
    },
    {
      "cell_type": "markdown",
      "metadata": {
        "id": "DC4ekCXm6vIZ"
      },
      "source": [
        "And using the function `help` we can get a description of each function (almost .. not all functions have docstrings, as they are technically called, but the vast majority of functions are documented this way)."
      ]
    },
    {
      "cell_type": "code",
      "execution_count": null,
      "metadata": {
        "id": "dKQPIT186vIZ",
        "outputId": "6f55261d-ff78-4557-a66d-c6e4c533e6d2"
      },
      "outputs": [
        {
          "name": "stdout",
          "output_type": "stream",
          "text": [
            "Help on built-in function log in module math:\n",
            "\n",
            "log(...)\n",
            "    log(x[, base])\n",
            "    \n",
            "    Return the logarithm of x to the given base.\n",
            "    If the base not specified, returns the natural logarithm (base e) of x.\n",
            "\n"
          ]
        }
      ],
      "source": [
        "help(math.log)"
      ]
    },
    {
      "cell_type": "code",
      "execution_count": null,
      "metadata": {
        "id": "febVIDf36vIZ",
        "outputId": "f5c83deb-7d7b-45aa-a3f6-b849120e5509"
      },
      "outputs": [
        {
          "data": {
            "text/plain": [
              "2.302585092994046"
            ]
          },
          "execution_count": 12,
          "metadata": {},
          "output_type": "execute_result"
        }
      ],
      "source": [
        "log(10)"
      ]
    },
    {
      "cell_type": "code",
      "execution_count": null,
      "metadata": {
        "id": "TAtgFW7a6vIZ",
        "outputId": "ce19edf8-a149-477e-abe1-603c7683092c"
      },
      "outputs": [
        {
          "data": {
            "text/plain": [
              "3.3219280948873626"
            ]
          },
          "execution_count": 13,
          "metadata": {},
          "output_type": "execute_result"
        }
      ],
      "source": [
        "log(10, 2)"
      ]
    },
    {
      "cell_type": "markdown",
      "metadata": {
        "id": "YgTNDHcR6vIZ"
      },
      "source": [
        "We can also use the `help` function directly on modules: Try\n",
        "\n",
        "    help(math)\n",
        "\n",
        "Some very useful modules form the Python standard library are `os`, `sys`, `math`, `shutil`, `re`, `subprocess`, `multiprocessing`, `threading`.\n",
        "\n",
        "A complete lists of standard modules for Python 2 and Python 3 are available at http://docs.python.org/2/library/ and http://docs.python.org/3/library/, respectively."
      ]
    },
    {
      "cell_type": "markdown",
      "metadata": {
        "id": "kbcyXwha6vIZ"
      },
      "source": [
        "## Variables and types"
      ]
    },
    {
      "cell_type": "markdown",
      "metadata": {
        "id": "Hgv-FVmw6vIZ"
      },
      "source": [
        "### Symbol names"
      ]
    },
    {
      "cell_type": "markdown",
      "metadata": {
        "id": "WT4G8uNE6vIZ"
      },
      "source": [
        "Variable names in Python can contain alphanumerical characters `a-z`, `A-Z`, `0-9` and some special characters such as `_`. Normal variable names must start with a letter.\n",
        "\n",
        "By convention, variable names start with a lower-case letter, and Class names start with a capital letter.\n",
        "\n",
        "In addition, there are a number of Python keywords that cannot be used as variable names. These keywords are:\n",
        "\n",
        "    and, as, assert, break, class, continue, def, del, elif, else, except,\n",
        "    exec, finally, for, from, global, if, import, in, is, lambda, not, or,\n",
        "    pass, print, raise, return, try, while, with, yield\n",
        "\n",
        "Note: Be aware of the keyword `lambda`, which could easily be a natural variable name in a scientific program. But being a keyword, it cannot be used as a variable name."
      ]
    },
    {
      "cell_type": "markdown",
      "metadata": {
        "id": "1w5N4oQ26vIZ"
      },
      "source": [
        "### Assignment"
      ]
    },
    {
      "cell_type": "markdown",
      "metadata": {
        "id": "NGg0gBDD6vIZ"
      },
      "source": [
        "\n",
        "\n",
        "The assignment operator in Python is `=`. Python is a dynamically typed language, so we do not need to specify the type of a variable when we create one.\n",
        "\n",
        "Assigning a value to a new variable creates the variable:"
      ]
    },
    {
      "cell_type": "code",
      "execution_count": null,
      "metadata": {
        "id": "9GC5HSdk6vIe"
      },
      "outputs": [],
      "source": [
        "# variable assignments\n",
        "x = 1.0\n",
        "my_variable = 12.2"
      ]
    },
    {
      "cell_type": "markdown",
      "metadata": {
        "id": "-4RYcI0x6vIe"
      },
      "source": [
        "Although not explicitly specified, a variable does have a type associated with it. The type is derived from the value that was assigned to it."
      ]
    },
    {
      "cell_type": "code",
      "execution_count": null,
      "metadata": {
        "id": "wc69xXwZ6vIe",
        "outputId": "5a2105ff-f12a-4b1f-e898-d871ded80a1b"
      },
      "outputs": [
        {
          "data": {
            "text/plain": [
              "float"
            ]
          },
          "execution_count": 15,
          "metadata": {},
          "output_type": "execute_result"
        }
      ],
      "source": [
        "type(x)"
      ]
    },
    {
      "cell_type": "markdown",
      "metadata": {
        "id": "C0J7Fi0R6vIf"
      },
      "source": [
        "If we assign a new value to a variable, its type can change."
      ]
    },
    {
      "cell_type": "code",
      "execution_count": null,
      "metadata": {
        "id": "PmIQ3NM76vIf"
      },
      "outputs": [],
      "source": [
        "x = 1"
      ]
    },
    {
      "cell_type": "code",
      "execution_count": null,
      "metadata": {
        "id": "B1PWLbE26vIf",
        "outputId": "5737b098-c527-49df-85c8-c9e034f1b862"
      },
      "outputs": [
        {
          "data": {
            "text/plain": [
              "int"
            ]
          },
          "execution_count": 17,
          "metadata": {},
          "output_type": "execute_result"
        }
      ],
      "source": [
        "type(x)"
      ]
    },
    {
      "cell_type": "markdown",
      "metadata": {
        "id": "u7a1DdCk6vIf"
      },
      "source": [
        "If we try to use a variable that has not yet been defined we get an `NameError`:"
      ]
    },
    {
      "cell_type": "code",
      "execution_count": null,
      "metadata": {
        "id": "YiNqeqND6vIf",
        "outputId": "91e87159-37dd-46f0-d2f2-fdbd4f555049"
      },
      "outputs": [
        {
          "ename": "NameError",
          "evalue": "name 'y' is not defined",
          "output_type": "error",
          "traceback": [
            "\u001b[0;31m---------------------------------------------------------------------------\u001b[0m",
            "\u001b[0;31mNameError\u001b[0m                                 Traceback (most recent call last)",
            "\u001b[0;32m<ipython-input-18-36b2093251cd>\u001b[0m in \u001b[0;36m<module>\u001b[0;34m()\u001b[0m\n\u001b[0;32m----> 1\u001b[0;31m \u001b[0;32mprint\u001b[0m\u001b[0;34m(\u001b[0m\u001b[0my\u001b[0m\u001b[0;34m)\u001b[0m\u001b[0;34m\u001b[0m\u001b[0m\n\u001b[0m",
            "\u001b[0;31mNameError\u001b[0m: name 'y' is not defined"
          ]
        }
      ],
      "source": [
        "print(y)"
      ]
    },
    {
      "cell_type": "markdown",
      "metadata": {
        "id": "qsC3JRRj6vIf"
      },
      "source": [
        "### Fundamental types"
      ]
    },
    {
      "cell_type": "code",
      "execution_count": null,
      "metadata": {
        "id": "q7t_AOPx6vIf",
        "outputId": "20452c22-40a4-43c8-efd5-26e8c36376d8"
      },
      "outputs": [
        {
          "data": {
            "text/plain": [
              "int"
            ]
          },
          "execution_count": 19,
          "metadata": {},
          "output_type": "execute_result"
        }
      ],
      "source": [
        "# integers\n",
        "x = 1\n",
        "type(x)"
      ]
    },
    {
      "cell_type": "code",
      "execution_count": null,
      "metadata": {
        "id": "yjficreD6vIf",
        "outputId": "11fd5a5a-1750-4ec9-a35d-a790a22944d1"
      },
      "outputs": [
        {
          "data": {
            "text/plain": [
              "float"
            ]
          },
          "execution_count": 20,
          "metadata": {},
          "output_type": "execute_result"
        }
      ],
      "source": [
        "# float\n",
        "x = 1.0\n",
        "type(x)"
      ]
    },
    {
      "cell_type": "code",
      "execution_count": null,
      "metadata": {
        "id": "bPT4bWXS6vIf",
        "outputId": "3d572a33-e940-4be7-de81-4d9f8820445f"
      },
      "outputs": [
        {
          "data": {
            "text/plain": [
              "bool"
            ]
          },
          "execution_count": 21,
          "metadata": {},
          "output_type": "execute_result"
        }
      ],
      "source": [
        "# boolean\n",
        "b1 = True\n",
        "b2 = False\n",
        "\n",
        "type(b1)"
      ]
    },
    {
      "cell_type": "code",
      "execution_count": null,
      "metadata": {
        "id": "YYuQx05C6vIf",
        "outputId": "ea0f2d1b-9729-4443-da9a-ed5b8a5e17fb"
      },
      "outputs": [
        {
          "data": {
            "text/plain": [
              "complex"
            ]
          },
          "execution_count": 22,
          "metadata": {},
          "output_type": "execute_result"
        }
      ],
      "source": [
        "# complex numbers: note the use of `j` to specify the imaginary part\n",
        "x = 1.0 - 1.0j\n",
        "type(x)"
      ]
    },
    {
      "cell_type": "code",
      "execution_count": null,
      "metadata": {
        "id": "sOJQVzml6vIf",
        "outputId": "a685be4b-6e4f-4a0e-b1ce-8799fc4b7ab3"
      },
      "outputs": [
        {
          "name": "stdout",
          "output_type": "stream",
          "text": [
            "(1-1j)\n"
          ]
        }
      ],
      "source": [
        "print(x)"
      ]
    },
    {
      "cell_type": "code",
      "execution_count": null,
      "metadata": {
        "id": "pdy6B7Ud6vIf",
        "outputId": "06c3cc72-737f-4b39-b2aa-17ab2ddfd480"
      },
      "outputs": [
        {
          "name": "stdout",
          "output_type": "stream",
          "text": [
            "(1.0, -1.0)\n"
          ]
        }
      ],
      "source": [
        "print(x.real, x.imag)"
      ]
    },
    {
      "cell_type": "markdown",
      "metadata": {
        "id": "CM0JOjqC6vIf"
      },
      "source": [
        "### Type utility functions"
      ]
    },
    {
      "cell_type": "markdown",
      "metadata": {
        "id": "8Zjjvi046vIg"
      },
      "source": [
        "\n",
        "The module `types` contains a number of type name definitions that can be used to test if variables are of certain types:"
      ]
    },
    {
      "cell_type": "code",
      "execution_count": null,
      "metadata": {
        "id": "7II3BQx56vIg",
        "outputId": "63725394-fc33-4fa3-a3d4-9c19dde3bc8c"
      },
      "outputs": [
        {
          "name": "stdout",
          "output_type": "stream",
          "text": [
            "['BooleanType', 'BufferType', 'BuiltinFunctionType', 'BuiltinMethodType', 'ClassType', 'CodeType', 'ComplexType', 'DictProxyType', 'DictType', 'DictionaryType', 'EllipsisType', 'FileType', 'FloatType', 'FrameType', 'FunctionType', 'GeneratorType', 'GetSetDescriptorType', 'InstanceType', 'IntType', 'LambdaType', 'ListType', 'LongType', 'MemberDescriptorType', 'MethodType', 'ModuleType', 'NoneType', 'NotImplementedType', 'ObjectType', 'SliceType', 'StringType', 'StringTypes', 'TracebackType', 'TupleType', 'TypeType', 'UnboundMethodType', 'UnicodeType', 'XRangeType', '__all__', '__builtins__', '__doc__', '__file__', '__name__', '__package__']\n"
          ]
        }
      ],
      "source": [
        "import types\n",
        "\n",
        "# print all types defined in the `types` module\n",
        "print(dir(types))"
      ]
    },
    {
      "cell_type": "code",
      "execution_count": null,
      "metadata": {
        "id": "b1GcnFL56vIg",
        "outputId": "479154fb-0fbf-41f7-96a0-b8673cdc0209"
      },
      "outputs": [
        {
          "data": {
            "text/plain": [
              "True"
            ]
          },
          "execution_count": 26,
          "metadata": {},
          "output_type": "execute_result"
        }
      ],
      "source": [
        "x = 1.0\n",
        "\n",
        "# check if the variable x is a float\n",
        "type(x) is float"
      ]
    },
    {
      "cell_type": "code",
      "execution_count": null,
      "metadata": {
        "id": "0QMfkiTz6vIg",
        "outputId": "f3d43354-2a90-4327-d438-7fe9d115a356"
      },
      "outputs": [
        {
          "data": {
            "text/plain": [
              "False"
            ]
          },
          "execution_count": 27,
          "metadata": {},
          "output_type": "execute_result"
        }
      ],
      "source": [
        "# check if the variable x is an int\n",
        "type(x) is int"
      ]
    },
    {
      "cell_type": "markdown",
      "metadata": {
        "id": "H1dij5GF6vIg"
      },
      "source": [
        "We can also use the `isinstance` method for testing types of variables:"
      ]
    },
    {
      "cell_type": "code",
      "execution_count": null,
      "metadata": {
        "id": "uHMKyrnl6vIg",
        "outputId": "27b436e5-ea40-49b1-f57b-0f758e08b06a"
      },
      "outputs": [
        {
          "data": {
            "text/plain": [
              "True"
            ]
          },
          "execution_count": 28,
          "metadata": {},
          "output_type": "execute_result"
        }
      ],
      "source": [
        "isinstance(x, float)"
      ]
    },
    {
      "cell_type": "markdown",
      "metadata": {
        "id": "d02vpil66vIg"
      },
      "source": [
        "### Type casting"
      ]
    },
    {
      "cell_type": "code",
      "execution_count": null,
      "metadata": {
        "id": "z4sUYSdH6vIg",
        "outputId": "859e1cba-3ad0-4e46-8242-31d0d73fbfd7"
      },
      "outputs": [
        {
          "name": "stdout",
          "output_type": "stream",
          "text": [
            "(1.5, <type 'float'>)\n"
          ]
        }
      ],
      "source": [
        "x = 1.5\n",
        "\n",
        "print(x, type(x))"
      ]
    },
    {
      "cell_type": "code",
      "execution_count": null,
      "metadata": {
        "id": "VwdysVt_6vIg",
        "outputId": "9a1a57d8-1973-466c-81b2-61d30b280b68"
      },
      "outputs": [
        {
          "name": "stdout",
          "output_type": "stream",
          "text": [
            "(1, <type 'int'>)\n"
          ]
        }
      ],
      "source": [
        "x = int(x)\n",
        "\n",
        "print(x, type(x))"
      ]
    },
    {
      "cell_type": "code",
      "execution_count": null,
      "metadata": {
        "id": "OO8PKPv_6vIg",
        "outputId": "46589e92-2a94-4b95-c3f2-def6838bbc3a"
      },
      "outputs": [
        {
          "name": "stdout",
          "output_type": "stream",
          "text": [
            "((1+0j), <type 'complex'>)\n"
          ]
        }
      ],
      "source": [
        "z = complex(x)\n",
        "\n",
        "print(z, type(z))"
      ]
    },
    {
      "cell_type": "code",
      "execution_count": null,
      "metadata": {
        "id": "d5fxJ3P-6vIg",
        "outputId": "d67d7995-7df7-47b2-fd18-bf3c18b0f571"
      },
      "outputs": [
        {
          "ename": "TypeError",
          "evalue": "can't convert complex to float",
          "output_type": "error",
          "traceback": [
            "\u001b[0;31m---------------------------------------------------------------------------\u001b[0m",
            "\u001b[0;31mTypeError\u001b[0m                                 Traceback (most recent call last)",
            "\u001b[0;32m<ipython-input-32-e719cc7b3e96>\u001b[0m in \u001b[0;36m<module>\u001b[0;34m()\u001b[0m\n\u001b[0;32m----> 1\u001b[0;31m \u001b[0mx\u001b[0m \u001b[0;34m=\u001b[0m \u001b[0mfloat\u001b[0m\u001b[0;34m(\u001b[0m\u001b[0mz\u001b[0m\u001b[0;34m)\u001b[0m\u001b[0;34m\u001b[0m\u001b[0m\n\u001b[0m",
            "\u001b[0;31mTypeError\u001b[0m: can't convert complex to float"
          ]
        }
      ],
      "source": [
        "x = float(z)"
      ]
    },
    {
      "cell_type": "markdown",
      "metadata": {
        "id": "DhPnZ-cu6vIg"
      },
      "source": [
        "Complex variables cannot be cast to floats or integers. We need to use `z.real` or `z.imag` to extract the part of the complex number we want:"
      ]
    },
    {
      "cell_type": "code",
      "execution_count": null,
      "metadata": {
        "id": "h-RGGx6z6vIg",
        "outputId": "e43dc75f-ff9d-4d62-ec6d-f09c7d58c077"
      },
      "outputs": [
        {
          "name": "stdout",
          "output_type": "stream",
          "text": [
            "(1.0, ' -> ', True, <type 'bool'>)\n",
            "(0.0, ' -> ', False, <type 'bool'>)\n"
          ]
        }
      ],
      "source": [
        "y = bool(z.real)\n",
        "\n",
        "print(z.real, \" -> \", y, type(y))\n",
        "\n",
        "y = bool(z.imag)\n",
        "\n",
        "print(z.imag, \" -> \", y, type(y))"
      ]
    },
    {
      "cell_type": "markdown",
      "metadata": {
        "id": "u2_NAxmc6vIh"
      },
      "source": [
        "## Operators and comparisons"
      ]
    },
    {
      "cell_type": "markdown",
      "metadata": {
        "id": "UTSViDUE6vIh"
      },
      "source": [
        "Most operators and comparisons in Python work as one would expect:\n",
        "\n",
        "* Arithmetic operators `+`, `-`, `*`, `/`, `//` (integer division), '**' power\n"
      ]
    },
    {
      "cell_type": "code",
      "execution_count": null,
      "metadata": {
        "id": "3w5Hv9Eg6vIh",
        "outputId": "1597c205-956d-4d80-e504-7ea490a93ed8"
      },
      "outputs": [
        {
          "data": {
            "text/plain": [
              "(3, -1, 2, 0)"
            ]
          },
          "execution_count": 34,
          "metadata": {},
          "output_type": "execute_result"
        }
      ],
      "source": [
        "1 + 2, 1 - 2, 1 * 2, 1 / 2"
      ]
    },
    {
      "cell_type": "code",
      "execution_count": null,
      "metadata": {
        "id": "yyLSe_N56vIh",
        "outputId": "ee591c48-c9f9-44c1-9bd9-6f03f3a2b307"
      },
      "outputs": [
        {
          "data": {
            "text/plain": [
              "(3.0, -1.0, 2.0, 0.5)"
            ]
          },
          "execution_count": 35,
          "metadata": {},
          "output_type": "execute_result"
        }
      ],
      "source": [
        "1.0 + 2.0, 1.0 - 2.0, 1.0 * 2.0, 1.0 / 2.0"
      ]
    },
    {
      "cell_type": "code",
      "execution_count": null,
      "metadata": {
        "id": "A8HdVp8g6vIh",
        "outputId": "f4f81454-f1eb-41e4-e05a-3140bb7c27c2"
      },
      "outputs": [
        {
          "data": {
            "text/plain": [
              "1.0"
            ]
          },
          "execution_count": 36,
          "metadata": {},
          "output_type": "execute_result"
        }
      ],
      "source": [
        "# Integer division of float numbers\n",
        "3.0 // 2.0"
      ]
    },
    {
      "cell_type": "code",
      "execution_count": null,
      "metadata": {
        "id": "O3jlnbEV6vIh",
        "outputId": "6e0eca54-e40d-4ec9-cd0b-cda0a0fed2e6"
      },
      "outputs": [
        {
          "data": {
            "text/plain": [
              "4"
            ]
          },
          "execution_count": 37,
          "metadata": {},
          "output_type": "execute_result"
        }
      ],
      "source": [
        "# Note! The power operators in python isn't ^, but **\n",
        "2 ** 2"
      ]
    },
    {
      "cell_type": "markdown",
      "metadata": {
        "id": "DcqjlMjO6vIh"
      },
      "source": [
        "Note: The `/` operator always performs a floating point division in Python 3.x.\n",
        "This is not true in Python 2.x, where the result of `/` is always an integer if the operands are integers.\n",
        "to be more specific, `1/2 = 0.5` (`float`) in Python 3.x, and `1/2 = 0` (`int`) in Python 2.x (but `1.0/2 = 0.5` in Python 2.x)."
      ]
    },
    {
      "cell_type": "markdown",
      "metadata": {
        "id": "A-OgYiAA6vIh"
      },
      "source": [
        "* The boolean operators are spelled out as the words `and`, `not`, `or`."
      ]
    },
    {
      "cell_type": "code",
      "execution_count": null,
      "metadata": {
        "id": "KFas08cH6vIh",
        "outputId": "c429e112-9a0a-4f28-bfcc-8ca28ed21ec5"
      },
      "outputs": [
        {
          "data": {
            "text/plain": [
              "False"
            ]
          },
          "execution_count": 38,
          "metadata": {},
          "output_type": "execute_result"
        }
      ],
      "source": [
        "True and False"
      ]
    },
    {
      "cell_type": "code",
      "execution_count": null,
      "metadata": {
        "id": "wK4vdtYb6vIh",
        "outputId": "b92a6231-a4ab-4f76-91fc-bcbdb40879c6"
      },
      "outputs": [
        {
          "data": {
            "text/plain": [
              "True"
            ]
          },
          "execution_count": 39,
          "metadata": {},
          "output_type": "execute_result"
        }
      ],
      "source": [
        "not False"
      ]
    },
    {
      "cell_type": "code",
      "execution_count": null,
      "metadata": {
        "id": "BatYuo8P6vIh",
        "outputId": "0538e975-8ad3-4660-8a14-12dd68e9a894"
      },
      "outputs": [
        {
          "data": {
            "text/plain": [
              "True"
            ]
          },
          "execution_count": 40,
          "metadata": {},
          "output_type": "execute_result"
        }
      ],
      "source": [
        "True or False"
      ]
    },
    {
      "cell_type": "markdown",
      "metadata": {
        "id": "OPKOgZmH6vIh"
      },
      "source": [
        "* Comparison operators `>`, `<`, `>=` (greater or equal), `<=` (less or equal), `==` equality, `is` identical."
      ]
    },
    {
      "cell_type": "code",
      "execution_count": null,
      "metadata": {
        "id": "Emtyze2F6vIh",
        "outputId": "95a12866-c3f8-4f87-b4f5-d16d1ce2984d"
      },
      "outputs": [
        {
          "data": {
            "text/plain": [
              "(True, False)"
            ]
          },
          "execution_count": 41,
          "metadata": {},
          "output_type": "execute_result"
        }
      ],
      "source": [
        "2 > 1, 2 < 1"
      ]
    },
    {
      "cell_type": "code",
      "execution_count": null,
      "metadata": {
        "id": "N4xO9QHA6vIi",
        "outputId": "09a6347d-3a59-49fa-ae53-62627ec6c079"
      },
      "outputs": [
        {
          "data": {
            "text/plain": [
              "(False, False)"
            ]
          },
          "execution_count": 42,
          "metadata": {},
          "output_type": "execute_result"
        }
      ],
      "source": [
        "2 > 2, 2 < 2"
      ]
    },
    {
      "cell_type": "code",
      "execution_count": null,
      "metadata": {
        "id": "mGWxezL46vIi",
        "outputId": "a6990b60-7de8-43dd-c140-a3a1e2396f63"
      },
      "outputs": [
        {
          "data": {
            "text/plain": [
              "(True, True)"
            ]
          },
          "execution_count": 43,
          "metadata": {},
          "output_type": "execute_result"
        }
      ],
      "source": [
        "2 >= 2, 2 <= 2"
      ]
    },
    {
      "cell_type": "code",
      "execution_count": null,
      "metadata": {
        "id": "jlQdBhsk6vIi",
        "outputId": "b95467f2-af56-43c4-a28d-cdc39e1532fd"
      },
      "outputs": [
        {
          "data": {
            "text/plain": [
              "True"
            ]
          },
          "execution_count": 44,
          "metadata": {},
          "output_type": "execute_result"
        }
      ],
      "source": [
        "# equality\n",
        "[1,2] == [1,2]"
      ]
    },
    {
      "cell_type": "code",
      "execution_count": null,
      "metadata": {
        "id": "FCGuOpDO6vIi",
        "outputId": "c54806bd-d1bc-4a60-99ac-0c986070d6b8"
      },
      "outputs": [
        {
          "data": {
            "text/plain": [
              "True"
            ]
          },
          "execution_count": 45,
          "metadata": {},
          "output_type": "execute_result"
        }
      ],
      "source": [
        "# objects identical?\n",
        "l1 = l2 = [1,2]\n",
        "\n",
        "l1 is l2"
      ]
    },
    {
      "cell_type": "markdown",
      "metadata": {
        "id": "3jBICO4D6vIi"
      },
      "source": [
        "## Compound types: Strings, List and dictionaries"
      ]
    },
    {
      "cell_type": "markdown",
      "metadata": {
        "id": "1wRD5AUa6vIi"
      },
      "source": [
        "### Strings"
      ]
    },
    {
      "cell_type": "markdown",
      "metadata": {
        "id": "VV_xbQhm6vIi"
      },
      "source": [
        "Strings are the variable type that is used for storing text messages."
      ]
    },
    {
      "cell_type": "code",
      "execution_count": null,
      "metadata": {
        "id": "tIolei3V6vIi",
        "outputId": "85625b77-db46-4280-b07b-82ea68df00cc"
      },
      "outputs": [
        {
          "data": {
            "text/plain": [
              "str"
            ]
          },
          "execution_count": 46,
          "metadata": {},
          "output_type": "execute_result"
        }
      ],
      "source": [
        "s = \"Hello world\"\n",
        "type(s)"
      ]
    },
    {
      "cell_type": "code",
      "execution_count": null,
      "metadata": {
        "id": "b0ikaiX-6vIi",
        "outputId": "6ecb8f8b-eef2-48d1-e2ba-fe41c741f11e"
      },
      "outputs": [
        {
          "data": {
            "text/plain": [
              "11"
            ]
          },
          "execution_count": 47,
          "metadata": {},
          "output_type": "execute_result"
        }
      ],
      "source": [
        "# length of the string: the number of characters\n",
        "len(s)"
      ]
    },
    {
      "cell_type": "code",
      "execution_count": null,
      "metadata": {
        "id": "TjKAL1Fx6vIi",
        "outputId": "7714f6e0-8be6-4fae-8e11-008b694261c7"
      },
      "outputs": [
        {
          "name": "stdout",
          "output_type": "stream",
          "text": [
            "Hello test\n"
          ]
        }
      ],
      "source": [
        "# replace a substring in a string with something else\n",
        "s2 = s.replace(\"world\", \"test\")\n",
        "print(s2)"
      ]
    },
    {
      "cell_type": "markdown",
      "metadata": {
        "id": "u4lF9VKw6vIi"
      },
      "source": [
        "We can index a character in a string using `[]`:"
      ]
    },
    {
      "cell_type": "code",
      "execution_count": null,
      "metadata": {
        "id": "v91J8NgM6vIi",
        "outputId": "25ab146d-a04e-492a-86f7-300428dea602"
      },
      "outputs": [
        {
          "data": {
            "text/plain": [
              "'H'"
            ]
          },
          "execution_count": 49,
          "metadata": {},
          "output_type": "execute_result"
        }
      ],
      "source": [
        "s[0]"
      ]
    },
    {
      "cell_type": "markdown",
      "metadata": {
        "id": "ENUGP9sF6vIi"
      },
      "source": [
        "**Heads up MATLAB users:** Indexing start at 0!\n",
        "\n",
        "We can extract a part of a string using the syntax `[start:stop]`, which extracts characters between index `start` and `stop` -1 (the character at index `stop` is not included):"
      ]
    },
    {
      "cell_type": "code",
      "execution_count": null,
      "metadata": {
        "id": "gER8zrRN6vIi",
        "outputId": "50c62485-6875-455d-ea5f-43d84280396f"
      },
      "outputs": [
        {
          "data": {
            "text/plain": [
              "'Hello'"
            ]
          },
          "execution_count": 50,
          "metadata": {},
          "output_type": "execute_result"
        }
      ],
      "source": [
        "s[0:5]"
      ]
    },
    {
      "cell_type": "code",
      "execution_count": null,
      "metadata": {
        "id": "CafNDtqI6vIj",
        "outputId": "c6fb4593-f4bf-48c7-904c-60d89ac7bef2"
      },
      "outputs": [
        {
          "data": {
            "text/plain": [
              "'o'"
            ]
          },
          "execution_count": 51,
          "metadata": {},
          "output_type": "execute_result"
        }
      ],
      "source": [
        "s[4:5]"
      ]
    },
    {
      "cell_type": "markdown",
      "metadata": {
        "id": "AI_wZsnx6vIj"
      },
      "source": [
        "If we omit either (or both) of `start` or `stop` from `[start:stop]`, the default is the beginning and the end of the string, respectively:"
      ]
    },
    {
      "cell_type": "code",
      "execution_count": null,
      "metadata": {
        "id": "JuYCauFJ6vIj",
        "outputId": "332364a1-c425-4471-bac2-dff6cdebf707"
      },
      "outputs": [
        {
          "data": {
            "text/plain": [
              "'Hello'"
            ]
          },
          "execution_count": 52,
          "metadata": {},
          "output_type": "execute_result"
        }
      ],
      "source": [
        "s[:5]"
      ]
    },
    {
      "cell_type": "code",
      "execution_count": null,
      "metadata": {
        "id": "o8ALVTNr6vIj",
        "outputId": "f260e955-75e3-45ea-b158-3ce621dae73c"
      },
      "outputs": [
        {
          "data": {
            "text/plain": [
              "'world'"
            ]
          },
          "execution_count": 53,
          "metadata": {},
          "output_type": "execute_result"
        }
      ],
      "source": [
        "s[6:]"
      ]
    },
    {
      "cell_type": "code",
      "execution_count": null,
      "metadata": {
        "id": "ACoa7rYR6vIj",
        "outputId": "cb6b0ba3-8d27-454d-b47d-5ae7c70f4221"
      },
      "outputs": [
        {
          "data": {
            "text/plain": [
              "'Hello world'"
            ]
          },
          "execution_count": 54,
          "metadata": {},
          "output_type": "execute_result"
        }
      ],
      "source": [
        "s[:]"
      ]
    },
    {
      "cell_type": "markdown",
      "metadata": {
        "id": "GSfzOpfL6vIj"
      },
      "source": [
        "We can also define the step size using the syntax `[start:end:step]` (the default value for `step` is 1, as we saw above):"
      ]
    },
    {
      "cell_type": "code",
      "execution_count": null,
      "metadata": {
        "id": "ZWgzoOXV6vIj",
        "outputId": "86cb2788-2906-4d00-cc9e-4760ee7053d9"
      },
      "outputs": [
        {
          "data": {
            "text/plain": [
              "'Hello world'"
            ]
          },
          "execution_count": 55,
          "metadata": {},
          "output_type": "execute_result"
        }
      ],
      "source": [
        "s[::1]"
      ]
    },
    {
      "cell_type": "code",
      "execution_count": null,
      "metadata": {
        "id": "-Tpeutf16vIj",
        "outputId": "372ecd62-736e-4f23-94dc-f1e5123a4ea8"
      },
      "outputs": [
        {
          "data": {
            "text/plain": [
              "'Hlowrd'"
            ]
          },
          "execution_count": 56,
          "metadata": {},
          "output_type": "execute_result"
        }
      ],
      "source": [
        "s[::2]"
      ]
    },
    {
      "cell_type": "markdown",
      "metadata": {
        "id": "53P15qlh6vIj"
      },
      "source": [
        "This technique is called *slicing*. Read more about the syntax here: http://docs.python.org/release/2.7.3/library/functions.html?highlight=slice#slice"
      ]
    },
    {
      "cell_type": "markdown",
      "metadata": {
        "id": "gimFrKZR6vIj"
      },
      "source": [
        "Python has a very rich set of functions for text processing. See for example http://docs.python.org/2/library/string.html for more information."
      ]
    },
    {
      "cell_type": "markdown",
      "metadata": {
        "id": "1Nd0_xu26vIj"
      },
      "source": [
        "#### String formatting examples"
      ]
    },
    {
      "cell_type": "code",
      "execution_count": null,
      "metadata": {
        "id": "uROkiLK_6vIj",
        "outputId": "ed9123ed-4f4f-4275-fd39-c888b49aa53f"
      },
      "outputs": [
        {
          "name": "stdout",
          "output_type": "stream",
          "text": [
            "('str1', 'str2', 'str3')\n"
          ]
        }
      ],
      "source": [
        "print(\"str1\", \"str2\", \"str3\")  # The print statement concatenates strings with a space"
      ]
    },
    {
      "cell_type": "code",
      "execution_count": null,
      "metadata": {
        "id": "OFrwD9ST6vIj",
        "outputId": "ddbaee15-b9c0-43f8-9da5-800832188f35"
      },
      "outputs": [
        {
          "name": "stdout",
          "output_type": "stream",
          "text": [
            "('str1', 1.0, False, -1j)\n"
          ]
        }
      ],
      "source": [
        "print(\"str1\", 1.0, False, -1j)  # The print statements converts all arguments to strings"
      ]
    },
    {
      "cell_type": "code",
      "execution_count": null,
      "metadata": {
        "id": "gFTg_StR6vIk",
        "outputId": "3f79157b-f0de-4cbc-8535-50cec6186fd9"
      },
      "outputs": [
        {
          "name": "stdout",
          "output_type": "stream",
          "text": [
            "str1str2str3\n"
          ]
        }
      ],
      "source": [
        "print(\"str1\" + \"str2\" + \"str3\") # strings added with + are concatenated without space"
      ]
    },
    {
      "cell_type": "code",
      "execution_count": null,
      "metadata": {
        "id": "9TIsH1Qy6vIk",
        "outputId": "8685d5ed-20e3-4694-99d1-7972a3affc09"
      },
      "outputs": [
        {
          "name": "stdout",
          "output_type": "stream",
          "text": [
            "value = 1.000000\n"
          ]
        }
      ],
      "source": [
        "print(\"value = %f\" % 1.0)       # we can use C-style string formatting"
      ]
    },
    {
      "cell_type": "code",
      "execution_count": null,
      "metadata": {
        "id": "D6Mujr646vIk",
        "outputId": "a8de837e-941b-40c4-b831-acf8cb6ea758"
      },
      "outputs": [
        {
          "name": "stdout",
          "output_type": "stream",
          "text": [
            "value1 = 3.14. value2 = 1\n"
          ]
        }
      ],
      "source": [
        "# this formatting creates a string\n",
        "s2 = \"value1 = %.2f. value2 = %d\" % (3.1415, 1.5)\n",
        "\n",
        "print(s2)"
      ]
    },
    {
      "cell_type": "code",
      "execution_count": null,
      "metadata": {
        "id": "x2XyWxZq6vIk",
        "outputId": "95d33c7b-b620-4e01-fde4-f7c8bc36ff05"
      },
      "outputs": [
        {
          "name": "stdout",
          "output_type": "stream",
          "text": [
            "value1 = 3.1415, value2 = 1.5\n"
          ]
        }
      ],
      "source": [
        "# alternative, more intuitive way of formatting a string\n",
        "s3 = 'value1 = {0}, value2 = {1}'.format(3.1415, 1.5)\n",
        "\n",
        "print(s3)"
      ]
    },
    {
      "cell_type": "markdown",
      "metadata": {
        "id": "7BkuoOwc6vIk"
      },
      "source": [
        "### List"
      ]
    },
    {
      "cell_type": "markdown",
      "metadata": {
        "id": "PZEb-h5V6vIk"
      },
      "source": [
        "Lists are very similar to strings, except that each element can be of any type.\n",
        "\n",
        "The syntax for creating lists in Python is `[...]`:"
      ]
    },
    {
      "cell_type": "code",
      "execution_count": null,
      "metadata": {
        "id": "3uSqHfE_6vIk",
        "outputId": "3c269c17-0aef-407e-b756-33cc90c00013"
      },
      "outputs": [
        {
          "name": "stdout",
          "output_type": "stream",
          "text": [
            "<type 'list'>\n",
            "[1, 2, 3, 4]\n"
          ]
        }
      ],
      "source": [
        "l = [1,2,3,4]\n",
        "\n",
        "print(type(l))\n",
        "print(l)"
      ]
    },
    {
      "cell_type": "markdown",
      "metadata": {
        "id": "EoP7rrWH6vIk"
      },
      "source": [
        "We can use the same slicing techniques to manipulate lists as we could use on strings:"
      ]
    },
    {
      "cell_type": "code",
      "execution_count": null,
      "metadata": {
        "id": "Fnk4TcqF6vIk",
        "outputId": "b87ef8dc-2cc9-43b2-8a53-199403466eda"
      },
      "outputs": [
        {
          "name": "stdout",
          "output_type": "stream",
          "text": [
            "[1, 2, 3, 4]\n",
            "[2, 3]\n",
            "[1, 3]\n"
          ]
        }
      ],
      "source": [
        "print(l)\n",
        "\n",
        "print(l[1:3])\n",
        "\n",
        "print(l[::2])"
      ]
    },
    {
      "cell_type": "markdown",
      "metadata": {
        "id": "dBnQvcdm6vIk"
      },
      "source": [
        "**Heads up MATLAB users:** Indexing starts at 0!"
      ]
    },
    {
      "cell_type": "code",
      "execution_count": null,
      "metadata": {
        "id": "I3hKMr-a6vIk",
        "outputId": "79187c7b-7983-4503-f003-745e7de5ff44"
      },
      "outputs": [
        {
          "data": {
            "text/plain": [
              "1"
            ]
          },
          "execution_count": 65,
          "metadata": {},
          "output_type": "execute_result"
        }
      ],
      "source": [
        "l[0]"
      ]
    },
    {
      "cell_type": "markdown",
      "metadata": {
        "id": "rKEFMO9j6vIk"
      },
      "source": [
        "Elements in a list do not all have to be of the same type:"
      ]
    },
    {
      "cell_type": "code",
      "execution_count": null,
      "metadata": {
        "id": "YPwzPt0A6vIk",
        "outputId": "3b80132d-dee5-4c11-c9ac-0dafa1db35d4"
      },
      "outputs": [
        {
          "name": "stdout",
          "output_type": "stream",
          "text": [
            "[1, 'a', 1.0, (1-1j)]\n"
          ]
        }
      ],
      "source": [
        "l = [1, 'a', 1.0, 1-1j]\n",
        "\n",
        "print(l)"
      ]
    },
    {
      "cell_type": "markdown",
      "metadata": {
        "id": "edMQBvUu6vIk"
      },
      "source": [
        "Python lists can be inhomogeneous and arbitrarily nested:"
      ]
    },
    {
      "cell_type": "code",
      "execution_count": null,
      "metadata": {
        "id": "7MwUiUVs6vIl",
        "outputId": "391a2b73-e1fe-4270-ef58-db4350f1e914"
      },
      "outputs": [
        {
          "data": {
            "text/plain": [
              "[1, [2, [3, [4, [5]]]]]"
            ]
          },
          "execution_count": 67,
          "metadata": {},
          "output_type": "execute_result"
        }
      ],
      "source": [
        "nested_list = [1, [2, [3, [4, [5]]]]]\n",
        "\n",
        "nested_list"
      ]
    },
    {
      "cell_type": "markdown",
      "metadata": {
        "id": "Q6vHEIev6vIl"
      },
      "source": [
        "Lists play a very important role in Python. For example they are used in loops and other flow control structures (discussed below). There are a number of convenient functions for generating lists of various types, for example the `range` function:"
      ]
    },
    {
      "cell_type": "code",
      "execution_count": null,
      "metadata": {
        "id": "jGmdw-S-6vIl",
        "outputId": "f9ba6d3c-e9df-4cf4-c05f-cdf1a8505182"
      },
      "outputs": [
        {
          "data": {
            "text/plain": [
              "[10, 12, 14, 16, 18, 20, 22, 24, 26, 28]"
            ]
          },
          "execution_count": 68,
          "metadata": {},
          "output_type": "execute_result"
        }
      ],
      "source": [
        "start = 10\n",
        "stop = 30\n",
        "step = 2\n",
        "\n",
        "range(start, stop, step)"
      ]
    },
    {
      "cell_type": "code",
      "execution_count": null,
      "metadata": {
        "id": "1JdNa8Lr6vIl",
        "outputId": "4b398b9d-deb9-4a7f-d23c-e0516fdd0b9e"
      },
      "outputs": [
        {
          "data": {
            "text/plain": [
              "[10, 12, 14, 16, 18, 20, 22, 24, 26, 28]"
            ]
          },
          "execution_count": 69,
          "metadata": {},
          "output_type": "execute_result"
        }
      ],
      "source": [
        "# in python 3 range generates an iterator, which can be converted to a list using 'list(...)'.\n",
        "# It has no effect in python 2\n",
        "list(range(start, stop, step))"
      ]
    },
    {
      "cell_type": "code",
      "execution_count": null,
      "metadata": {
        "id": "oBZR6IZc6vIl",
        "outputId": "6f038137-8993-4b72-85a9-d7db0ed47c96"
      },
      "outputs": [
        {
          "data": {
            "text/plain": [
              "[-10, -9, -8, -7, -6, -5, -4, -3, -2, -1, 0, 1, 2, 3, 4, 5, 6, 7, 8, 9]"
            ]
          },
          "execution_count": 70,
          "metadata": {},
          "output_type": "execute_result"
        }
      ],
      "source": [
        "list(range(-10, 10))"
      ]
    },
    {
      "cell_type": "code",
      "execution_count": null,
      "metadata": {
        "id": "eFj2HjNk6vIl",
        "outputId": "4d0248a6-d7d7-4b8d-c38e-97e81f6699de"
      },
      "outputs": [
        {
          "data": {
            "text/plain": [
              "'Hello world'"
            ]
          },
          "execution_count": 71,
          "metadata": {},
          "output_type": "execute_result"
        }
      ],
      "source": [
        "s"
      ]
    },
    {
      "cell_type": "code",
      "execution_count": null,
      "metadata": {
        "id": "IN5D15dU6vIl",
        "outputId": "685cc5cc-f3a5-4fa0-e1f7-57c03bb006ce"
      },
      "outputs": [
        {
          "data": {
            "text/plain": [
              "['H', 'e', 'l', 'l', 'o', ' ', 'w', 'o', 'r', 'l', 'd']"
            ]
          },
          "execution_count": 72,
          "metadata": {},
          "output_type": "execute_result"
        }
      ],
      "source": [
        "# convert a string to a list by type casting:\n",
        "s2 = list(s)\n",
        "\n",
        "s2"
      ]
    },
    {
      "cell_type": "code",
      "execution_count": null,
      "metadata": {
        "id": "vr1s-7Cn6vIl",
        "outputId": "1a85735c-2015-485a-812d-c3acfd069fa3"
      },
      "outputs": [
        {
          "name": "stdout",
          "output_type": "stream",
          "text": [
            "[' ', 'H', 'd', 'e', 'l', 'l', 'l', 'o', 'o', 'r', 'w']\n"
          ]
        }
      ],
      "source": [
        "# sorting lists\n",
        "s2.sort()\n",
        "\n",
        "print(s2)"
      ]
    },
    {
      "cell_type": "markdown",
      "metadata": {
        "id": "5oeCrg5A6vIl"
      },
      "source": [
        "#### Adding, inserting, modifying, and removing elements from lists"
      ]
    },
    {
      "cell_type": "code",
      "execution_count": null,
      "metadata": {
        "id": "x8fCdxJ46vIl",
        "outputId": "8c675749-d896-48b2-97df-ba11c3500d86"
      },
      "outputs": [
        {
          "name": "stdout",
          "output_type": "stream",
          "text": [
            "['A', 'd', 'd']\n"
          ]
        }
      ],
      "source": [
        "# create a new empty list\n",
        "l = []\n",
        "\n",
        "# add an elements using `append`\n",
        "l.append(\"A\")\n",
        "l.append(\"d\")\n",
        "l.append(\"d\")\n",
        "\n",
        "print(l)"
      ]
    },
    {
      "cell_type": "markdown",
      "metadata": {
        "id": "YnDOYJxS6vIl"
      },
      "source": [
        "We can modify lists by assigning new values to elements in the list. In technical jargon, lists are *mutable*."
      ]
    },
    {
      "cell_type": "code",
      "execution_count": null,
      "metadata": {
        "id": "Cvk_fCq26vIl",
        "outputId": "04af7f3c-28b6-4c0e-a628-a83d720bf98c"
      },
      "outputs": [
        {
          "name": "stdout",
          "output_type": "stream",
          "text": [
            "['A', 'p', 'p']\n"
          ]
        }
      ],
      "source": [
        "l[1] = \"p\"\n",
        "l[2] = \"p\"\n",
        "\n",
        "print(l)"
      ]
    },
    {
      "cell_type": "code",
      "execution_count": null,
      "metadata": {
        "id": "vZT1PmG06vIl",
        "outputId": "9cadf452-6469-4e19-f474-56c8411ac911"
      },
      "outputs": [
        {
          "name": "stdout",
          "output_type": "stream",
          "text": [
            "['A', 'd', 'd']\n"
          ]
        }
      ],
      "source": [
        "l[1:3] = [\"d\", \"d\"]\n",
        "\n",
        "print(l)"
      ]
    },
    {
      "cell_type": "markdown",
      "metadata": {
        "id": "QFJVoep46vIl"
      },
      "source": [
        "Insert an element at an specific index using `insert`"
      ]
    },
    {
      "cell_type": "code",
      "execution_count": null,
      "metadata": {
        "id": "3v-o5uAh6vIm",
        "outputId": "2e9a3b94-3e72-4af3-dc40-8f86d90fd9a9"
      },
      "outputs": [
        {
          "name": "stdout",
          "output_type": "stream",
          "text": [
            "['i', 'n', 's', 'e', 'r', 't', 'A', 'd', 'd']\n"
          ]
        }
      ],
      "source": [
        "l.insert(0, \"i\")\n",
        "l.insert(1, \"n\")\n",
        "l.insert(2, \"s\")\n",
        "l.insert(3, \"e\")\n",
        "l.insert(4, \"r\")\n",
        "l.insert(5, \"t\")\n",
        "\n",
        "print(l)"
      ]
    },
    {
      "cell_type": "markdown",
      "metadata": {
        "id": "0sf47_uf6vIm"
      },
      "source": [
        "Remove first element with specific value using 'remove'"
      ]
    },
    {
      "cell_type": "code",
      "execution_count": null,
      "metadata": {
        "id": "0xDNKfPs6vIm",
        "outputId": "09de1d95-dd3c-49cd-e60d-b3701f915f22"
      },
      "outputs": [
        {
          "name": "stdout",
          "output_type": "stream",
          "text": [
            "['i', 'n', 's', 'e', 'r', 't', 'd', 'd']\n"
          ]
        }
      ],
      "source": [
        "l.remove(\"A\")\n",
        "\n",
        "print(l)"
      ]
    },
    {
      "cell_type": "markdown",
      "metadata": {
        "id": "JK0QWT9g6vIm"
      },
      "source": [
        "Remove an element at a specific location using `del`:"
      ]
    },
    {
      "cell_type": "code",
      "execution_count": null,
      "metadata": {
        "id": "LITDR_L86vIm",
        "outputId": "83311739-99e5-46b9-85f3-b2accdddec6d"
      },
      "outputs": [
        {
          "name": "stdout",
          "output_type": "stream",
          "text": [
            "['i', 'n', 's', 'e', 'r', 't']\n"
          ]
        }
      ],
      "source": [
        "del l[7]\n",
        "del l[6]\n",
        "\n",
        "print(l)"
      ]
    },
    {
      "cell_type": "markdown",
      "metadata": {
        "id": "s35_5Vwq6vIm"
      },
      "source": [
        "See `help(list)` for more details, or read the online documentation"
      ]
    },
    {
      "cell_type": "markdown",
      "metadata": {
        "id": "8RICsiHt6vIm"
      },
      "source": [
        "### Tuples"
      ]
    },
    {
      "cell_type": "markdown",
      "metadata": {
        "id": "itk3SMV66vIm"
      },
      "source": [
        "Tuples are like lists, except that they cannot be modified once created, that is they are *immutable*.\n",
        "\n",
        "In Python, tuples are created using the syntax `(..., ..., ...)`, or even `..., ...`:"
      ]
    },
    {
      "cell_type": "code",
      "execution_count": null,
      "metadata": {
        "id": "AHVxRjFo6vIm",
        "outputId": "55e1d474-5cb6-4f04-db92-becf795256d9"
      },
      "outputs": [
        {
          "name": "stdout",
          "output_type": "stream",
          "text": [
            "((10, 20), <type 'tuple'>)\n"
          ]
        }
      ],
      "source": [
        "point = (10, 20)\n",
        "\n",
        "print(point, type(point))"
      ]
    },
    {
      "cell_type": "code",
      "execution_count": null,
      "metadata": {
        "id": "TAeX1Cru6vIm",
        "outputId": "3a45a47e-7fb3-4b11-f23c-5b811140c71f"
      },
      "outputs": [
        {
          "name": "stdout",
          "output_type": "stream",
          "text": [
            "((10, 20), <type 'tuple'>)\n"
          ]
        }
      ],
      "source": [
        "point = 10, 20\n",
        "\n",
        "print(point, type(point))"
      ]
    },
    {
      "cell_type": "markdown",
      "metadata": {
        "id": "cQHqOz6L6vIm"
      },
      "source": [
        "We can unpack a tuple by assigning it to a comma-separated list of variables:"
      ]
    },
    {
      "cell_type": "code",
      "execution_count": null,
      "metadata": {
        "id": "49s6g56G6vIm",
        "outputId": "3384f450-4d9d-4f4c-9073-68852bc44c88"
      },
      "outputs": [
        {
          "name": "stdout",
          "output_type": "stream",
          "text": [
            "('x =', 10)\n",
            "('y =', 20)\n"
          ]
        }
      ],
      "source": [
        "x, y = point\n",
        "\n",
        "print(\"x =\", x)\n",
        "print(\"y =\", y)"
      ]
    },
    {
      "cell_type": "markdown",
      "metadata": {
        "id": "rnZ_Z8eG6vIm"
      },
      "source": [
        "If we try to assign a new value to an element in a tuple we get an error:"
      ]
    },
    {
      "cell_type": "code",
      "execution_count": null,
      "metadata": {
        "id": "PlPWeocT6vIm",
        "outputId": "94b85677-9b7a-417d-9e90-29449d5908fd"
      },
      "outputs": [
        {
          "ename": "TypeError",
          "evalue": "'tuple' object does not support item assignment",
          "output_type": "error",
          "traceback": [
            "\u001b[0;31m---------------------------------------------------------------------------\u001b[0m",
            "\u001b[0;31mTypeError\u001b[0m                                 Traceback (most recent call last)",
            "\u001b[0;32m<ipython-input-83-ac1c641a5dca>\u001b[0m in \u001b[0;36m<module>\u001b[0;34m()\u001b[0m\n\u001b[0;32m----> 1\u001b[0;31m \u001b[0mpoint\u001b[0m\u001b[0;34m[\u001b[0m\u001b[0;36m0\u001b[0m\u001b[0;34m]\u001b[0m \u001b[0;34m=\u001b[0m \u001b[0;36m20\u001b[0m\u001b[0;34m\u001b[0m\u001b[0m\n\u001b[0m",
            "\u001b[0;31mTypeError\u001b[0m: 'tuple' object does not support item assignment"
          ]
        }
      ],
      "source": [
        "point[0] = 20"
      ]
    },
    {
      "cell_type": "markdown",
      "metadata": {
        "id": "Ra8hgieA6vIm"
      },
      "source": [
        "### Dictionaries"
      ]
    },
    {
      "cell_type": "markdown",
      "metadata": {
        "id": "tWtjMwGj6vIn"
      },
      "source": [
        "Dictionaries are also like lists, except that each element is a key-value pair. The syntax for dictionaries is `{key1 : value1, ...}`:"
      ]
    },
    {
      "cell_type": "code",
      "execution_count": null,
      "metadata": {
        "id": "1Fa384rw6vIn",
        "outputId": "bf16aa45-71ac-40fc-d684-cfea2763be29"
      },
      "outputs": [
        {
          "name": "stdout",
          "output_type": "stream",
          "text": [
            "<type 'dict'>\n",
            "{'parameter1': 1.0, 'parameter3': 3.0, 'parameter2': 2.0}\n"
          ]
        }
      ],
      "source": [
        "params = {\"parameter1\" : 1.0,\n",
        "          \"parameter2\" : 2.0,\n",
        "          \"parameter3\" : 3.0,}\n",
        "\n",
        "print(type(params))\n",
        "print(params)"
      ]
    },
    {
      "cell_type": "code",
      "execution_count": null,
      "metadata": {
        "id": "ItuUcGoo6vIn",
        "outputId": "1fb3b1d6-b5d8-44ae-f094-8d588f5f91c1"
      },
      "outputs": [
        {
          "name": "stdout",
          "output_type": "stream",
          "text": [
            "parameter1 = 1.0\n",
            "parameter2 = 2.0\n",
            "parameter3 = 3.0\n"
          ]
        }
      ],
      "source": [
        "print(\"parameter1 = \" + str(params[\"parameter1\"]))\n",
        "print(\"parameter2 = \" + str(params[\"parameter2\"]))\n",
        "print(\"parameter3 = \" + str(params[\"parameter3\"]))"
      ]
    },
    {
      "cell_type": "code",
      "execution_count": null,
      "metadata": {
        "id": "s2ljHIT66vIn",
        "outputId": "4281b452-ab56-48e8-a19e-1a7567f68ead"
      },
      "outputs": [
        {
          "name": "stdout",
          "output_type": "stream",
          "text": [
            "parameter1 = A\n",
            "parameter2 = B\n",
            "parameter3 = 3.0\n",
            "parameter4 = D\n"
          ]
        }
      ],
      "source": [
        "params[\"parameter1\"] = \"A\"\n",
        "params[\"parameter2\"] = \"B\"\n",
        "\n",
        "# add a new entry\n",
        "params[\"parameter4\"] = \"D\"\n",
        "\n",
        "print(\"parameter1 = \" + str(params[\"parameter1\"]))\n",
        "print(\"parameter2 = \" + str(params[\"parameter2\"]))\n",
        "print(\"parameter3 = \" + str(params[\"parameter3\"]))\n",
        "print(\"parameter4 = \" + str(params[\"parameter4\"]))"
      ]
    },
    {
      "cell_type": "markdown",
      "metadata": {
        "id": "zWOihf5_6vIn"
      },
      "source": [
        "## Control Flow"
      ]
    },
    {
      "cell_type": "markdown",
      "metadata": {
        "id": "acgcnGvM6vIn"
      },
      "source": [
        "### Conditional statements: if, elif, else"
      ]
    },
    {
      "cell_type": "markdown",
      "metadata": {
        "id": "v4EnVB206vIn"
      },
      "source": [
        "The Python syntax for conditional execution of code uses the keywords `if`, `elif` (else if), `else`:"
      ]
    },
    {
      "cell_type": "code",
      "execution_count": null,
      "metadata": {
        "id": "RHwRvUm_6vIn",
        "outputId": "a03514d8-b006-4c48-9beb-fb1ba301013b"
      },
      "outputs": [
        {
          "name": "stdout",
          "output_type": "stream",
          "text": [
            "statement1 and statement2 are False\n"
          ]
        }
      ],
      "source": [
        "statement1 = False\n",
        "statement2 = False\n",
        "\n",
        "if statement1:\n",
        "    print(\"statement1 is True\")\n",
        "\n",
        "elif statement2:\n",
        "    print(\"statement2 is True\")\n",
        "\n",
        "else:\n",
        "    print(\"statement1 and statement2 are False\")"
      ]
    },
    {
      "cell_type": "markdown",
      "metadata": {
        "id": "zRsxgUty6vIn"
      },
      "source": [
        "For the first time, here we encounter a peculiar and unusual aspect of the Python programming language: Program blocks are defined by their indentation level.\n",
        "\n",
        "Compare to the equivalent C code:\n",
        "\n",
        "    if (statement1)\n",
        "    {\n",
        "        printf(\"statement1 is True\\n\");\n",
        "    }\n",
        "    else if (statement2)\n",
        "    {\n",
        "        printf(\"statement2 is True\\n\");\n",
        "    }\n",
        "    else\n",
        "    {\n",
        "        printf(\"statement1 and statement2 are False\\n\");\n",
        "    }\n",
        "\n",
        "In C blocks are defined by the enclosing curly brackets `{` and `}`. And the level of indentation (white space before the code statements) does not matter (completely optional).\n",
        "\n",
        "But in Python, the extent of a code block is defined by the indentation level (usually a tab or say four white spaces). This means that we have to be careful to indent our code correctly, or else we will get syntax errors."
      ]
    },
    {
      "cell_type": "markdown",
      "metadata": {
        "id": "CyW1GK4O6vIn"
      },
      "source": [
        "#### Examples:"
      ]
    },
    {
      "cell_type": "code",
      "execution_count": null,
      "metadata": {
        "id": "UO9xQNVY6vIn",
        "outputId": "8cc3f02b-78f4-4ae5-9d1b-2bf922419d51"
      },
      "outputs": [
        {
          "name": "stdout",
          "output_type": "stream",
          "text": [
            "both statement1 and statement2 are True\n"
          ]
        }
      ],
      "source": [
        "statement1 = statement2 = True\n",
        "\n",
        "if statement1:\n",
        "    if statement2:\n",
        "        print(\"both statement1 and statement2 are True\")"
      ]
    },
    {
      "cell_type": "code",
      "execution_count": null,
      "metadata": {
        "id": "JCOgGRQx6vIn",
        "outputId": "0d812b41-4eac-4b4c-ad32-1c30429eb0de"
      },
      "outputs": [
        {
          "ename": "IndentationError",
          "evalue": "expected an indented block (<ipython-input-89-78979cdecf37>, line 4)",
          "output_type": "error",
          "traceback": [
            "\u001b[0;36m  File \u001b[0;32m\"<ipython-input-89-78979cdecf37>\"\u001b[0;36m, line \u001b[0;32m4\u001b[0m\n\u001b[0;31m    print(\"both statement1 and statement2 are True\")  # this line is not properly indented\u001b[0m\n\u001b[0m        ^\u001b[0m\n\u001b[0;31mIndentationError\u001b[0m\u001b[0;31m:\u001b[0m expected an indented block\n"
          ]
        }
      ],
      "source": [
        "# Bad indentation!\n",
        "if statement1:\n",
        "    if statement2:\n",
        "    print(\"both statement1 and statement2 are True\")  # this line is not properly indented"
      ]
    },
    {
      "cell_type": "code",
      "execution_count": null,
      "metadata": {
        "id": "hY1xfurg6vIn"
      },
      "outputs": [],
      "source": [
        "statement1 = False\n",
        "\n",
        "if statement1:\n",
        "    print(\"printed if statement1 is True\")\n",
        "\n",
        "    print(\"still inside the if block\")"
      ]
    },
    {
      "cell_type": "code",
      "execution_count": null,
      "metadata": {
        "id": "87DPnSkx6vIo",
        "outputId": "7ca917b5-fed2-4e26-fe35-5b18b4738693"
      },
      "outputs": [
        {
          "name": "stdout",
          "output_type": "stream",
          "text": [
            "now outside the if block\n"
          ]
        }
      ],
      "source": [
        "if statement1:\n",
        "    print(\"printed if statement1 is True\")\n",
        "\n",
        "print(\"now outside the if block\")"
      ]
    },
    {
      "cell_type": "markdown",
      "metadata": {
        "id": "8SJ1IJlf6vIq"
      },
      "source": [
        "## Loops"
      ]
    },
    {
      "cell_type": "markdown",
      "metadata": {
        "id": "ELCNy5ay6vIq"
      },
      "source": [
        "In Python, loops can be programmed in a number of different ways. The most common is the `for` loop, which is used together with iterable objects, such as lists. The basic syntax is:"
      ]
    },
    {
      "cell_type": "markdown",
      "metadata": {
        "id": "_WsBVqES6vIq"
      },
      "source": [
        "### **`for` loops**:"
      ]
    },
    {
      "cell_type": "code",
      "execution_count": null,
      "metadata": {
        "id": "oUQOkT2e6vIq",
        "outputId": "6eefeb14-5ccf-4b2f-f403-a9ea5cf16795"
      },
      "outputs": [
        {
          "name": "stdout",
          "output_type": "stream",
          "text": [
            "1\n",
            "2\n",
            "3\n"
          ]
        }
      ],
      "source": [
        "for x in [1,2,3]:\n",
        "    print(x)"
      ]
    },
    {
      "cell_type": "markdown",
      "metadata": {
        "id": "8zQSEjDy6vIq"
      },
      "source": [
        "The `for` loop iterates over the elements of the supplied list, and executes the containing block once for each element. Any kind of list can be used in the `for` loop. For example:"
      ]
    },
    {
      "cell_type": "code",
      "execution_count": null,
      "metadata": {
        "id": "cdwgIrv_6vIq",
        "outputId": "d5b70a7a-c4a4-4e43-cf32-93ff5bcdd7fb"
      },
      "outputs": [
        {
          "name": "stdout",
          "output_type": "stream",
          "text": [
            "0\n",
            "1\n",
            "2\n",
            "3\n"
          ]
        }
      ],
      "source": [
        "for x in range(4): # by default range start at 0\n",
        "    print(x)"
      ]
    },
    {
      "cell_type": "markdown",
      "metadata": {
        "id": "AMd6W_Gp6vIq"
      },
      "source": [
        "Note: `range(4)` does not include 4 !"
      ]
    },
    {
      "cell_type": "code",
      "execution_count": null,
      "metadata": {
        "id": "LQ18g4ZG6vIq",
        "outputId": "fc667840-2c70-4bb4-f6c2-e18f80d6f77a"
      },
      "outputs": [
        {
          "name": "stdout",
          "output_type": "stream",
          "text": [
            "-3\n",
            "-2\n",
            "-1\n",
            "0\n",
            "1\n",
            "2\n"
          ]
        }
      ],
      "source": [
        "for x in range(-3,3):\n",
        "    print(x)"
      ]
    },
    {
      "cell_type": "code",
      "execution_count": null,
      "metadata": {
        "id": "oRjrzHE_6vIq",
        "outputId": "42c0b30b-b89c-43e5-bad5-4d468be4036f"
      },
      "outputs": [
        {
          "name": "stdout",
          "output_type": "stream",
          "text": [
            "scientific\n",
            "computing\n",
            "with\n",
            "python\n"
          ]
        }
      ],
      "source": [
        "for word in [\"scientific\", \"computing\", \"with\", \"python\"]:\n",
        "    print(word)"
      ]
    },
    {
      "cell_type": "markdown",
      "metadata": {
        "id": "8BhaPpxy6vIq"
      },
      "source": [
        "To iterate over key-value pairs of a dictionary:"
      ]
    },
    {
      "cell_type": "code",
      "execution_count": null,
      "metadata": {
        "id": "hiOUV6Jm6vIq",
        "outputId": "e150639e-dfc3-4170-d50f-ce86bd026b97"
      },
      "outputs": [
        {
          "name": "stdout",
          "output_type": "stream",
          "text": [
            "parameter4 = D\n",
            "parameter1 = A\n",
            "parameter3 = 3.0\n",
            "parameter2 = B\n"
          ]
        }
      ],
      "source": [
        "for key, value in params.items():\n",
        "    print(key + \" = \" + str(value))"
      ]
    },
    {
      "cell_type": "markdown",
      "metadata": {
        "id": "Dl5j02Hz6vIr"
      },
      "source": [
        "Sometimes it is useful to have access to the indices of the values when iterating over a list. We can use the `enumerate` function for this:"
      ]
    },
    {
      "cell_type": "code",
      "execution_count": null,
      "metadata": {
        "id": "0JOApoIL6vIr",
        "outputId": "dabd9903-a2bb-4c36-a82b-3f8d8bc92339"
      },
      "outputs": [
        {
          "name": "stdout",
          "output_type": "stream",
          "text": [
            "(0, -3)\n",
            "(1, -2)\n",
            "(2, -1)\n",
            "(3, 0)\n",
            "(4, 1)\n",
            "(5, 2)\n"
          ]
        }
      ],
      "source": [
        "for idx, x in enumerate(range(-3,3)):\n",
        "    print(idx, x)"
      ]
    },
    {
      "cell_type": "markdown",
      "metadata": {
        "id": "yn96Ebka6vIr"
      },
      "source": [
        "### List comprehensions: Creating lists using `for` loops:"
      ]
    },
    {
      "cell_type": "markdown",
      "metadata": {
        "id": "Rf0-L1N_6vIr"
      },
      "source": [
        "A convenient and compact way to initialize lists:"
      ]
    },
    {
      "cell_type": "code",
      "execution_count": null,
      "metadata": {
        "id": "dkujHdvY6vIr",
        "outputId": "d828b823-175a-4f10-e908-efa8299a9f53"
      },
      "outputs": [
        {
          "name": "stdout",
          "output_type": "stream",
          "text": [
            "[0, 1, 4, 9, 16]\n"
          ]
        }
      ],
      "source": [
        "l1 = [x**2 for x in range(0,5)]\n",
        "\n",
        "print(l1)"
      ]
    },
    {
      "cell_type": "markdown",
      "metadata": {
        "id": "_SzEmQ8-6vIr"
      },
      "source": [
        "### `while` loops:"
      ]
    },
    {
      "cell_type": "code",
      "execution_count": null,
      "metadata": {
        "id": "Sqzo-HKt6vIr",
        "outputId": "4481cc74-ce9c-4299-fb51-d9a4bf279a83"
      },
      "outputs": [
        {
          "name": "stdout",
          "output_type": "stream",
          "text": [
            "0\n",
            "1\n",
            "2\n",
            "3\n",
            "4\n",
            "done\n"
          ]
        }
      ],
      "source": [
        "i = 0\n",
        "\n",
        "while i < 5:\n",
        "    print(i)\n",
        "\n",
        "    i = i + 1\n",
        "\n",
        "print(\"done\")"
      ]
    },
    {
      "cell_type": "markdown",
      "metadata": {
        "id": "_tI0oL-86vIr"
      },
      "source": [
        "Note that the `print(\"done\")` statement is not part of the `while` loop body because of the difference in indentation."
      ]
    },
    {
      "cell_type": "markdown",
      "metadata": {
        "id": "GVvJqg2f6vIr"
      },
      "source": [
        "## Functions"
      ]
    },
    {
      "cell_type": "markdown",
      "metadata": {
        "id": "RjMdK4UJ6vIr"
      },
      "source": [
        "A function in Python is defined using the keyword `def`, followed by a function name, a signature within parentheses `()`, and a colon `:`. The following code, with one additional level of indentation, is the function body."
      ]
    },
    {
      "cell_type": "code",
      "execution_count": null,
      "metadata": {
        "id": "p0-P2WAU6vIr"
      },
      "outputs": [],
      "source": [
        "def func0():\n",
        "    print(\"test\")"
      ]
    },
    {
      "cell_type": "code",
      "execution_count": null,
      "metadata": {
        "id": "JsGAkHHr6vIr",
        "outputId": "29cbe1cc-5fde-4000-d11f-8300ce678e46"
      },
      "outputs": [
        {
          "name": "stdout",
          "output_type": "stream",
          "text": [
            "test\n"
          ]
        }
      ],
      "source": [
        "func0()"
      ]
    },
    {
      "cell_type": "markdown",
      "metadata": {
        "id": "n9DMtFzZ6vIr"
      },
      "source": [
        "Optionally, but highly recommended, we can define a so called \"docstring\", which is a description of the functions purpose and behavior. The docstring should follow directly after the function definition, before the code in the function body."
      ]
    },
    {
      "cell_type": "code",
      "execution_count": null,
      "metadata": {
        "id": "gxfDi8G06vIr"
      },
      "outputs": [],
      "source": [
        "def func1(s):\n",
        "    \"\"\"\n",
        "    Print a string 's' and tell how many characters it has\n",
        "    \"\"\"\n",
        "\n",
        "    print(s + \" has \" + str(len(s)) + \" characters\")"
      ]
    },
    {
      "cell_type": "code",
      "execution_count": null,
      "metadata": {
        "id": "o-E7keqI6vIr",
        "outputId": "d38f9310-365f-4787-c3ed-6066358893a5"
      },
      "outputs": [
        {
          "name": "stdout",
          "output_type": "stream",
          "text": [
            "Help on function func1 in module __main__:\n",
            "\n",
            "func1(s)\n",
            "    Print a string 's' and tell how many characters it has\n",
            "\n"
          ]
        }
      ],
      "source": [
        "help(func1)"
      ]
    },
    {
      "cell_type": "code",
      "execution_count": null,
      "metadata": {
        "id": "Nu3BbA5B6vIr",
        "outputId": "4d85ceb3-19a5-40a8-b801-f286ef881c9c"
      },
      "outputs": [
        {
          "name": "stdout",
          "output_type": "stream",
          "text": [
            "test has 4 characters\n"
          ]
        }
      ],
      "source": [
        "func1(\"test\")"
      ]
    },
    {
      "cell_type": "markdown",
      "metadata": {
        "id": "zoVId5Wi6vIr"
      },
      "source": [
        "Functions that returns a value use the `return` keyword:"
      ]
    },
    {
      "cell_type": "code",
      "execution_count": null,
      "metadata": {
        "id": "0Uxc6AHQ6vIs"
      },
      "outputs": [],
      "source": [
        "def square(x):\n",
        "    \"\"\"\n",
        "    Return the square of x.\n",
        "    \"\"\"\n",
        "    return x ** 2"
      ]
    },
    {
      "cell_type": "code",
      "execution_count": null,
      "metadata": {
        "id": "B3FvOtcg6vIs",
        "outputId": "2302271a-fa5e-41b1-cb8d-f0ad515076d3"
      },
      "outputs": [
        {
          "data": {
            "text/plain": [
              "16"
            ]
          },
          "execution_count": 106,
          "metadata": {},
          "output_type": "execute_result"
        }
      ],
      "source": [
        "square(4)"
      ]
    },
    {
      "cell_type": "markdown",
      "metadata": {
        "id": "ppYq5NID6vIs"
      },
      "source": [
        "We can return multiple values from a function using tuples (see above):"
      ]
    },
    {
      "cell_type": "code",
      "execution_count": null,
      "metadata": {
        "id": "TOG1L_l86vIs"
      },
      "outputs": [],
      "source": [
        "def powers(x):\n",
        "    \"\"\"\n",
        "    Return a few powers of x.\n",
        "    \"\"\"\n",
        "    return x ** 2, x ** 3, x ** 4"
      ]
    },
    {
      "cell_type": "code",
      "execution_count": null,
      "metadata": {
        "id": "k7OCvTSP6vIs",
        "outputId": "8a18d331-cd61-4c76-9637-f0275e733af7"
      },
      "outputs": [
        {
          "data": {
            "text/plain": [
              "(9, 27, 81)"
            ]
          },
          "execution_count": 108,
          "metadata": {},
          "output_type": "execute_result"
        }
      ],
      "source": [
        "powers(3)"
      ]
    },
    {
      "cell_type": "code",
      "execution_count": null,
      "metadata": {
        "id": "EMXWTKBs6vIs",
        "outputId": "acfcdfb7-3c12-4d04-d5ec-7c78e3828c31"
      },
      "outputs": [
        {
          "name": "stdout",
          "output_type": "stream",
          "text": [
            "27\n"
          ]
        }
      ],
      "source": [
        "x2, x3, x4 = powers(3)\n",
        "\n",
        "print(x3)"
      ]
    },
    {
      "cell_type": "markdown",
      "metadata": {
        "id": "oYhxgWBO6vIs"
      },
      "source": [
        "### Default argument and keyword arguments"
      ]
    },
    {
      "cell_type": "markdown",
      "metadata": {
        "id": "9U2n_92o6vIs"
      },
      "source": [
        "In a definition of a function, we can give default values to the arguments the function takes:"
      ]
    },
    {
      "cell_type": "code",
      "execution_count": null,
      "metadata": {
        "id": "b_pYnrph6vIs"
      },
      "outputs": [],
      "source": [
        "def myfunc(x, p=2, debug=False):\n",
        "    if debug:\n",
        "        print(\"evaluating myfunc for x = \" + str(x) + \" using exponent p = \" + str(p))\n",
        "    return x**p"
      ]
    },
    {
      "cell_type": "markdown",
      "metadata": {
        "id": "Xf9_kkzT6vIs"
      },
      "source": [
        "If we don't provide a value of the `debug` argument when calling the the function `myfunc` it defaults to the value provided in the function definition:"
      ]
    },
    {
      "cell_type": "code",
      "execution_count": null,
      "metadata": {
        "id": "yB9_hzAk6vIs",
        "outputId": "f7d1da9c-fbea-43fc-c832-ab35a63043ee"
      },
      "outputs": [
        {
          "data": {
            "text/plain": [
              "25"
            ]
          },
          "execution_count": 111,
          "metadata": {},
          "output_type": "execute_result"
        }
      ],
      "source": [
        "myfunc(5)"
      ]
    },
    {
      "cell_type": "code",
      "execution_count": null,
      "metadata": {
        "id": "m0vJdPcW6vIs",
        "outputId": "a0ba5836-e20d-4515-ec4d-c237c83f46b5"
      },
      "outputs": [
        {
          "name": "stdout",
          "output_type": "stream",
          "text": [
            "evaluating myfunc for x = 5 using exponent p = 2\n"
          ]
        },
        {
          "data": {
            "text/plain": [
              "25"
            ]
          },
          "execution_count": 112,
          "metadata": {},
          "output_type": "execute_result"
        }
      ],
      "source": [
        "myfunc(5, debug=True)"
      ]
    },
    {
      "cell_type": "markdown",
      "metadata": {
        "id": "Kbu2K0xU6vIs"
      },
      "source": [
        "If we explicitly list the name of the arguments in the function calls, they do not need to come in the same order as in the function definition. This is called *keyword* arguments, and is often very useful in functions that takes a lot of optional arguments."
      ]
    },
    {
      "cell_type": "code",
      "execution_count": null,
      "metadata": {
        "id": "MFMFiE3V6vIt",
        "outputId": "4f7acbe3-c7d1-4182-8bb0-46e622529181"
      },
      "outputs": [
        {
          "name": "stdout",
          "output_type": "stream",
          "text": [
            "evaluating myfunc for x = 7 using exponent p = 3\n"
          ]
        },
        {
          "data": {
            "text/plain": [
              "343"
            ]
          },
          "execution_count": 113,
          "metadata": {},
          "output_type": "execute_result"
        }
      ],
      "source": [
        "myfunc(p=3, debug=True, x=7)"
      ]
    },
    {
      "cell_type": "markdown",
      "metadata": {
        "id": "YY2mQ1vY6vIt"
      },
      "source": [
        "### Unnamed functions (lambda function)"
      ]
    },
    {
      "cell_type": "markdown",
      "metadata": {
        "id": "SKZVMYuC6vIt"
      },
      "source": [
        "In Python we can also create unnamed functions, using the `lambda` keyword:"
      ]
    },
    {
      "cell_type": "code",
      "execution_count": null,
      "metadata": {
        "id": "DQ0VFiZS6vIt"
      },
      "outputs": [],
      "source": [
        "f1 = lambda x: x**2\n",
        "\n",
        "# is equivalent to\n",
        "\n",
        "def f2(x):\n",
        "    return x**2"
      ]
    },
    {
      "cell_type": "code",
      "execution_count": null,
      "metadata": {
        "id": "fwwCKJHk6vIt",
        "outputId": "8dc28b32-8f7d-46af-cf00-46071071ec7b"
      },
      "outputs": [
        {
          "data": {
            "text/plain": [
              "(4, 4)"
            ]
          },
          "execution_count": 115,
          "metadata": {},
          "output_type": "execute_result"
        }
      ],
      "source": [
        "f1(2), f2(2)"
      ]
    },
    {
      "cell_type": "markdown",
      "metadata": {
        "id": "tkiK9X2F6vIt"
      },
      "source": [
        "This technique is useful for example when we want to pass a simple function as an argument to another function, like this:"
      ]
    },
    {
      "cell_type": "code",
      "execution_count": null,
      "metadata": {
        "id": "euMf5Ldu6vIt",
        "outputId": "0ad1ee73-6521-4a22-edce-4ecf0a38c1b2"
      },
      "outputs": [
        {
          "data": {
            "text/plain": [
              "[9, 4, 1, 0, 1, 4, 9]"
            ]
          },
          "execution_count": 116,
          "metadata": {},
          "output_type": "execute_result"
        }
      ],
      "source": [
        "# map is a built-in python function\n",
        "map(lambda x: x**2, range(-3,4))"
      ]
    },
    {
      "cell_type": "code",
      "execution_count": null,
      "metadata": {
        "id": "YZ1K4Nb86vIt",
        "outputId": "53121780-829a-4d75-a586-302ed44f7997"
      },
      "outputs": [
        {
          "data": {
            "text/plain": [
              "[9, 4, 1, 0, 1, 4, 9]"
            ]
          },
          "execution_count": 117,
          "metadata": {},
          "output_type": "execute_result"
        }
      ],
      "source": [
        "# in python 3 we can use `list(...)` to convert the iterator to an explicit list\n",
        "list(map(lambda x: x**2, range(-3,4)))"
      ]
    },
    {
      "cell_type": "markdown",
      "metadata": {
        "id": "DpPhJzxt6vIt"
      },
      "source": [
        "## Classes"
      ]
    },
    {
      "cell_type": "markdown",
      "metadata": {
        "id": "n6cMLj6l6vIt"
      },
      "source": [
        "Classes are the key features of object-oriented programming. A class is a structure for representing an object and the operations that can be performed on the object.\n",
        "\n",
        "In Python a class can contain *attributes* (variables) and *methods* (functions).\n",
        "\n",
        "A class is defined almost like a function, but using the `class` keyword, and the class definition usually contains a number of class method definitions (a function in a class).\n",
        "\n",
        "* Each class method should have an argument `self` as its first argument. This object is a self-reference.\n",
        "\n",
        "* Some class method names have special meaning, for example:\n",
        "\n",
        "    * `__init__`: The name of the method that is invoked when the object is first created.\n",
        "    * `__str__` : A method that is invoked when a simple string representation of the class is needed, as for example when printed.\n",
        "    * There are many more, see http://docs.python.org/2/reference/datamodel.html#special-method-names"
      ]
    },
    {
      "cell_type": "code",
      "execution_count": null,
      "metadata": {
        "id": "B0WAtyc26vIt"
      },
      "outputs": [],
      "source": [
        "class Point:\n",
        "    \"\"\"\n",
        "    Simple class for representing a point in a Cartesian coordinate system.\n",
        "    \"\"\"\n",
        "\n",
        "    def __init__(self, x, y):\n",
        "        \"\"\"\n",
        "        Create a new Point at x, y.\n",
        "        \"\"\"\n",
        "        self.x = x\n",
        "        self.y = y\n",
        "\n",
        "    def translate(self, dx, dy):\n",
        "        \"\"\"\n",
        "        Translate the point by dx and dy in the x and y direction.\n",
        "        \"\"\"\n",
        "        self.x += dx\n",
        "        self.y += dy\n",
        "\n",
        "    def __str__(self):\n",
        "        return(\"Point at [%f, %f]\" % (self.x, self.y))"
      ]
    },
    {
      "cell_type": "markdown",
      "metadata": {
        "id": "8nZ0sMrr6vIt"
      },
      "source": [
        "To create a new instance of a class:"
      ]
    },
    {
      "cell_type": "code",
      "execution_count": null,
      "metadata": {
        "id": "HhUCk6eY6vIt",
        "outputId": "88841709-254f-4792-f6d3-beda81cd975c"
      },
      "outputs": [
        {
          "name": "stdout",
          "output_type": "stream",
          "text": [
            "Point at [0.000000, 0.000000]\n"
          ]
        }
      ],
      "source": [
        "p1 = Point(0, 0) # this will invoke the __init__ method in the Point class\n",
        "\n",
        "print(p1)         # this will invoke the __str__ method"
      ]
    },
    {
      "cell_type": "markdown",
      "metadata": {
        "id": "YWD1DGkA6vIu"
      },
      "source": [
        "To invoke a class method in the class instance `p`:"
      ]
    },
    {
      "cell_type": "code",
      "execution_count": null,
      "metadata": {
        "id": "a93PRA2c6vIu",
        "outputId": "f93b7310-e398-44d1-8b89-0a129421f567"
      },
      "outputs": [
        {
          "name": "stdout",
          "output_type": "stream",
          "text": [
            "Point at [0.250000, 1.500000]\n",
            "Point at [1.000000, 1.000000]\n"
          ]
        }
      ],
      "source": [
        "p2 = Point(1, 1)\n",
        "\n",
        "p1.translate(0.25, 1.5)\n",
        "\n",
        "print(p1)\n",
        "print(p2)"
      ]
    },
    {
      "cell_type": "markdown",
      "metadata": {
        "id": "AEG-Nf0H6vIu"
      },
      "source": [
        "Note that calling class methods can modify the state of that particular class instance, but does not effect other class instances or any global variables.\n",
        "\n",
        "That is one of the nice things about object-oriented design: code such as functions and related variables are grouped in separate and independent entities."
      ]
    },
    {
      "cell_type": "markdown",
      "metadata": {
        "id": "qFH1KwyB6vIu"
      },
      "source": [
        "## Modules"
      ]
    },
    {
      "cell_type": "markdown",
      "metadata": {
        "id": "V-m-LFI06vIu"
      },
      "source": [
        "One of the most important concepts in good programming is to reuse code and avoid repetitions.\n",
        "\n",
        "The idea is to write functions and classes with a well-defined purpose and scope, and reuse these instead of repeating similar code in different part of a program (modular programming). The result is usually that readability and maintainability of a program is greatly improved. What this means in practice is that our programs have fewer bugs, are easier to extend and debug/troubleshoot.\n",
        "\n",
        "Python supports modular programming at different levels. Functions and classes are examples of tools for low-level modular programming. Python modules are a higher-level modular programming construct, where we can collect related variables, functions and classes in a module. A python module is defined in a python file (with file-ending `.py`), and it can be made accessible to other Python modules and programs using the `import` statement.\n",
        "\n",
        "Consider the following example: the file `mymodule.py` contains simple example implementations of a variable, function and a class:"
      ]
    },
    {
      "cell_type": "code",
      "execution_count": null,
      "metadata": {
        "id": "q9fLrmy16vIu",
        "outputId": "6a63c6e0-3b58-4faf-c3fa-055d71fb61be"
      },
      "outputs": [
        {
          "name": "stdout",
          "output_type": "stream",
          "text": [
            "Writing mymodule.py\n"
          ]
        }
      ],
      "source": [
        "%%file mymodule.py\n",
        "\"\"\"\n",
        "Example of a python module. Contains a variable called my_variable,\n",
        "a function called my_function, and a class called MyClass.\n",
        "\"\"\"\n",
        "\n",
        "my_variable = 0\n",
        "\n",
        "def my_function():\n",
        "    \"\"\"\n",
        "    Example function\n",
        "    \"\"\"\n",
        "    return my_variable\n",
        "\n",
        "class MyClass:\n",
        "    \"\"\"\n",
        "    Example class.\n",
        "    \"\"\"\n",
        "\n",
        "    def __init__(self):\n",
        "        self.variable = my_variable\n",
        "\n",
        "    def set_variable(self, new_value):\n",
        "        \"\"\"\n",
        "        Set self.variable to a new value\n",
        "        \"\"\"\n",
        "        self.variable = new_value\n",
        "\n",
        "    def get_variable(self):\n",
        "        return self.variable"
      ]
    },
    {
      "cell_type": "markdown",
      "metadata": {
        "id": "JovKs4T16vIu"
      },
      "source": [
        "We can import the module `mymodule` into our Python program using `import`:"
      ]
    },
    {
      "cell_type": "code",
      "execution_count": null,
      "metadata": {
        "id": "h03W9Nfr6vIu"
      },
      "outputs": [],
      "source": [
        "import mymodule"
      ]
    },
    {
      "cell_type": "markdown",
      "metadata": {
        "id": "DlOAb1IV6vIu"
      },
      "source": [
        "Use `help(module)` to get a summary of what the module provides:"
      ]
    },
    {
      "cell_type": "code",
      "execution_count": null,
      "metadata": {
        "id": "DS0DWN_26vIu",
        "outputId": "10509c3c-935a-4084-ae26-8caed45c24c0"
      },
      "outputs": [
        {
          "name": "stdout",
          "output_type": "stream",
          "text": [
            "Help on module mymodule:\n",
            "\n",
            "NAME\n",
            "    mymodule\n",
            "\n",
            "FILE\n",
            "    /Users/rob/Desktop/scientific-python-lectures/mymodule.py\n",
            "\n",
            "DESCRIPTION\n",
            "    Example of a python module. Contains a variable called my_variable,\n",
            "    a function called my_function, and a class called MyClass.\n",
            "\n",
            "CLASSES\n",
            "    MyClass\n",
            "    \n",
            "    class MyClass\n",
            "     |  Example class.\n",
            "     |  \n",
            "     |  Methods defined here:\n",
            "     |  \n",
            "     |  __init__(self)\n",
            "     |  \n",
            "     |  get_variable(self)\n",
            "     |  \n",
            "     |  set_variable(self, new_value)\n",
            "     |      Set self.variable to a new value\n",
            "\n",
            "FUNCTIONS\n",
            "    my_function()\n",
            "        Example function\n",
            "\n",
            "DATA\n",
            "    my_variable = 0\n",
            "\n",
            "\n"
          ]
        }
      ],
      "source": [
        "help(mymodule)"
      ]
    },
    {
      "cell_type": "code",
      "execution_count": null,
      "metadata": {
        "id": "rF274IAL6vIu",
        "outputId": "a2e27b57-e779-4c78-deb2-96636e95ae86"
      },
      "outputs": [
        {
          "data": {
            "text/plain": [
              "0"
            ]
          },
          "execution_count": 124,
          "metadata": {},
          "output_type": "execute_result"
        }
      ],
      "source": [
        "mymodule.my_variable"
      ]
    },
    {
      "cell_type": "code",
      "execution_count": null,
      "metadata": {
        "id": "hL6cPac-6vIu",
        "outputId": "ef417a85-46e8-4ead-d68c-d40218443f3e"
      },
      "outputs": [
        {
          "data": {
            "text/plain": [
              "0"
            ]
          },
          "execution_count": 125,
          "metadata": {},
          "output_type": "execute_result"
        }
      ],
      "source": [
        "mymodule.my_function()"
      ]
    },
    {
      "cell_type": "code",
      "execution_count": null,
      "metadata": {
        "id": "p0BUqlWq6vIv",
        "outputId": "e414ddd0-ca40-4102-fc2e-ea67f4bc4a77"
      },
      "outputs": [
        {
          "data": {
            "text/plain": [
              "10"
            ]
          },
          "execution_count": 126,
          "metadata": {},
          "output_type": "execute_result"
        }
      ],
      "source": [
        "my_class = mymodule.MyClass()\n",
        "my_class.set_variable(10)\n",
        "my_class.get_variable()"
      ]
    },
    {
      "cell_type": "markdown",
      "metadata": {
        "id": "fW3x1j0Z6vIv"
      },
      "source": [
        "If we make changes to the code in `mymodule.py`, we need to reload it using `reload`:"
      ]
    },
    {
      "cell_type": "code",
      "execution_count": null,
      "metadata": {
        "id": "0myftpak6vIv",
        "outputId": "66a57619-b912-4e00-cd80-c5f4f5874de5"
      },
      "outputs": [
        {
          "data": {
            "text/plain": [
              "<module 'mymodule' from 'mymodule.pyc'>"
            ]
          },
          "execution_count": 127,
          "metadata": {},
          "output_type": "execute_result"
        }
      ],
      "source": [
        "reload(mymodule)  # works only in python 2"
      ]
    },
    {
      "cell_type": "markdown",
      "metadata": {
        "id": "SBCg4BUT6vIv"
      },
      "source": [
        "## Exceptions"
      ]
    },
    {
      "cell_type": "markdown",
      "metadata": {
        "id": "uVUeHbcM6vIv"
      },
      "source": [
        "In Python errors are managed with a special language construct called \"Exceptions\". When errors occur exceptions can be raised, which interrupts the normal program flow and fallback to somewhere else in the code where the closest try-except statement is defined."
      ]
    },
    {
      "cell_type": "markdown",
      "metadata": {
        "id": "K9xp0Rsd6vIv"
      },
      "source": [
        "To generate an exception we can use the `raise` statement, which takes an argument that must be an instance of the class `BaseException` or a class derived from it."
      ]
    },
    {
      "cell_type": "code",
      "execution_count": null,
      "metadata": {
        "id": "S8uB0GLB6vIv",
        "outputId": "5f45d3a7-fa91-4627-b897-cb51fd76965c"
      },
      "outputs": [
        {
          "ename": "Exception",
          "evalue": "description of the error",
          "output_type": "error",
          "traceback": [
            "\u001b[0;31m---------------------------------------------------------------------------\u001b[0m",
            "\u001b[0;31mException\u001b[0m                                 Traceback (most recent call last)",
            "\u001b[0;32m<ipython-input-128-8f47ba831d5a>\u001b[0m in \u001b[0;36m<module>\u001b[0;34m()\u001b[0m\n\u001b[0;32m----> 1\u001b[0;31m \u001b[0;32mraise\u001b[0m \u001b[0mException\u001b[0m\u001b[0;34m(\u001b[0m\u001b[0;34m\"description of the error\"\u001b[0m\u001b[0;34m)\u001b[0m\u001b[0;34m\u001b[0m\u001b[0m\n\u001b[0m",
            "\u001b[0;31mException\u001b[0m: description of the error"
          ]
        }
      ],
      "source": [
        "raise Exception(\"description of the error\")"
      ]
    },
    {
      "cell_type": "markdown",
      "metadata": {
        "id": "Hl8g0ng56vIv"
      },
      "source": [
        "A typical use of exceptions is to abort functions when some error condition occurs, for example:\n",
        "\n",
        "    def my_function(arguments):\n",
        "    \n",
        "        if not verify(arguments):\n",
        "            raise Exception(\"Invalid arguments\")\n",
        "        \n",
        "        # rest of the code goes here"
      ]
    },
    {
      "cell_type": "markdown",
      "metadata": {
        "id": "6YJQ-jJe6vIv"
      },
      "source": [
        "To gracefully catch errors that are generated by functions and class methods, or by the Python interpreter itself, use the `try` and  `except` statements:\n",
        "\n",
        "    try:\n",
        "        # normal code goes here\n",
        "    except:\n",
        "        # code for error handling goes here\n",
        "        # this code is not executed unless the code\n",
        "        # above generated an error\n",
        "\n",
        "For example:"
      ]
    },
    {
      "cell_type": "code",
      "execution_count": null,
      "metadata": {
        "id": "MoFS5_BM6vIv",
        "outputId": "e01d8936-c5f0-46fc-ccd1-7b559adc829c"
      },
      "outputs": [
        {
          "name": "stdout",
          "output_type": "stream",
          "text": [
            "test\n",
            "Caught an exception\n"
          ]
        }
      ],
      "source": [
        "try:\n",
        "    print(\"test\")\n",
        "    # generate an error: the variable test is not defined\n",
        "    print(test)\n",
        "except:\n",
        "    print(\"Caught an exception\")"
      ]
    },
    {
      "cell_type": "markdown",
      "metadata": {
        "id": "zyrLHRQY6vIv"
      },
      "source": [
        "To get information about the error, we can access the `Exception` class instance that describes the exception by using for example:\n",
        "\n",
        "    except Exception as e:"
      ]
    },
    {
      "cell_type": "code",
      "execution_count": null,
      "metadata": {
        "id": "eikA51zU6vIv",
        "outputId": "4fef3c24-de0c-41b1-ba7c-f56213cbab08"
      },
      "outputs": [
        {
          "name": "stdout",
          "output_type": "stream",
          "text": [
            "test\n",
            "Caught an exception:name 'test' is not defined\n"
          ]
        }
      ],
      "source": [
        "try:\n",
        "    print(\"test\")\n",
        "    # generate an error: the variable test is not defined\n",
        "    print(test)\n",
        "except Exception as e:\n",
        "    print(\"Caught an exception:\" + str(e))"
      ]
    },
    {
      "cell_type": "markdown",
      "metadata": {
        "id": "WJYV5HCl6vIv"
      },
      "source": [
        "## Further reading"
      ]
    },
    {
      "cell_type": "markdown",
      "metadata": {
        "id": "0P6F16206vIv"
      },
      "source": [
        "* http://www.python.org - The official web page of the Python programming language.\n",
        "* http://www.python.org/dev/peps/pep-0008 - Style guide for Python programming. Highly recommended.\n",
        "* http://www.greenteapress.com/thinkpython/ - A free book on Python programming.\n",
        "* [Python Essential Reference](http://www.amazon.com/Python-Essential-Reference-4th-Edition/dp/0672329786) - A good reference book on Python programming."
      ]
    },
    {
      "cell_type": "markdown",
      "metadata": {
        "id": "hnJm8SVD6vIw"
      },
      "source": [
        "## Versions"
      ]
    },
    {
      "cell_type": "code",
      "execution_count": null,
      "metadata": {
        "id": "Y9VHZo336vIw",
        "outputId": "410391ca-a70e-421c-e4ef-3e492cb02257"
      },
      "outputs": [
        {
          "data": {
            "application/json": {
              "Software versions": [
                {
                  "module": "Python",
                  "version": "2.7.10 64bit [GCC 4.2.1 (Apple Inc. build 5577)]"
                },
                {
                  "module": "IPython",
                  "version": "3.2.1"
                },
                {
                  "module": "OS",
                  "version": "Darwin 14.1.0 x86_64 i386 64bit"
                }
              ]
            },
            "text/html": [
              "<table><tr><th>Software</th><th>Version</th></tr><tr><td>Python</td><td>2.7.10 64bit [GCC 4.2.1 (Apple Inc. build 5577)]</td></tr><tr><td>IPython</td><td>3.2.1</td></tr><tr><td>OS</td><td>Darwin 14.1.0 x86_64 i386 64bit</td></tr><tr><td colspan='2'>Sat Aug 15 10:51:55 2015 JST</td></tr></table>"
            ],
            "text/latex": [
              "\\begin{tabular}{|l|l|}\\hline\n",
              "{\\bf Software} & {\\bf Version} \\\\ \\hline\\hline\n",
              "Python & 2.7.10 64bit [GCC 4.2.1 (Apple Inc. build 5577)] \\\\ \\hline\n",
              "IPython & 3.2.1 \\\\ \\hline\n",
              "OS & Darwin 14.1.0 x86\\_64 i386 64bit \\\\ \\hline\n",
              "\\hline \\multicolumn{2}{|l|}{Sat Aug 15 10:51:55 2015 JST} \\\\ \\hline\n",
              "\\end{tabular}\n"
            ],
            "text/plain": [
              "Software versions\n",
              "Python 2.7.10 64bit [GCC 4.2.1 (Apple Inc. build 5577)]\n",
              "IPython 3.2.1\n",
              "OS Darwin 14.1.0 x86_64 i386 64bit\n",
              "Sat Aug 15 10:51:55 2015 JST"
            ]
          },
          "execution_count": 131,
          "metadata": {},
          "output_type": "execute_result"
        }
      ],
      "source": [
        "%load_ext version_information\n",
        "\n",
        "%version_information"
      ]
    }
  ],
  "metadata": {
    "kernelspec": {
      "display_name": "Python 2",
      "language": "python",
      "name": "python2"
    },
    "language_info": {
      "codemirror_mode": {
        "name": "ipython",
        "version": 2
      },
      "file_extension": ".py",
      "mimetype": "text/x-python",
      "name": "python",
      "nbconvert_exporter": "python",
      "pygments_lexer": "ipython2",
      "version": "2.7.10"
    },
    "colab": {
      "provenance": []
    }
  },
  "nbformat": 4,
  "nbformat_minor": 0
}